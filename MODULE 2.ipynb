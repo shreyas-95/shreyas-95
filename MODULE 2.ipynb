{
 "cells": [
  {
   "cell_type": "markdown",
   "metadata": {},
   "source": [
    "# Basics Of Python\n",
    "# MODULE 2"
   ]
  },
  {
   "cell_type": "markdown",
   "metadata": {},
   "source": [
    "# FUNCTIONS:\n",
    "\n",
    "## 1) Pre-Defined Functions:"
   ]
  },
  {
   "cell_type": "code",
   "execution_count": 1,
   "metadata": {},
   "outputs": [],
   "source": [
    "## Function is a particular block of code performing a specific task."
   ]
  },
  {
   "cell_type": "code",
   "execution_count": 5,
   "metadata": {},
   "outputs": [
    {
     "name": "stdout",
     "output_type": "stream",
     "text": [
      "Enter the number: 8\n",
      "Even\n"
     ]
    }
   ],
   "source": [
    "## WAP to enter the number and to check wheather it is even or odd.\n",
    "num = int(input('Enter the number: '))\n",
    "\n",
    "if num%2==0:\n",
    "    print('Even')\n",
    "else:\n",
    "    print('Odd')    ## This is one way to get the output by wrting a statements."
   ]
  },
  {
   "cell_type": "code",
   "execution_count": 11,
   "metadata": {},
   "outputs": [
    {
     "name": "stdout",
     "output_type": "stream",
     "text": [
      "Enter the number: 221\n",
      "Odd\n"
     ]
    }
   ],
   "source": [
    "## Obtaining the o/p by writing the function.\n",
    "\n",
    "def EvenorOdd(num):   ## Def is used to write user defined function.\n",
    "    if num%2==0:\n",
    "        print('Even')\n",
    "    else:       \n",
    "        print('Odd')    \n",
    "\n",
    "num = int(input('Enter the number: '))\n",
    "EvenorOdd(num)"
   ]
  },
  {
   "cell_type": "code",
   "execution_count": 14,
   "metadata": {},
   "outputs": [
    {
     "name": "stdout",
     "output_type": "stream",
     "text": [
      "Enter the number: 228\n"
     ]
    }
   ],
   "source": [
    "def EvenorOdd(num):   ## Def is used to write user defined function.\n",
    "    if num%2==0:\n",
    "        return('Even')\n",
    "    else:       \n",
    "        return('Odd')    ## Return funtion helps in getting a answer when it is stored in the variable.\n",
    "\n",
    "num = int(input('Enter the number: '))\n",
    "result=EvenorOdd(num)"
   ]
  },
  {
   "cell_type": "code",
   "execution_count": 15,
   "metadata": {},
   "outputs": [
    {
     "data": {
      "text/plain": [
       "'Even'"
      ]
     },
     "execution_count": 15,
     "metadata": {},
     "output_type": "execute_result"
    }
   ],
   "source": [
    "result"
   ]
  },
  {
   "cell_type": "code",
   "execution_count": 9,
   "metadata": {},
   "outputs": [],
   "source": [
    "## WAP to get the simple interest.\n",
    "\n",
    "def SimpleInterest(p,t,r):\n",
    "    si = (p*t*r)/100\n",
    "    amt = (p+si)\n",
    "    return si,amt"
   ]
  },
  {
   "cell_type": "code",
   "execution_count": 21,
   "metadata": {},
   "outputs": [],
   "source": [
    "result=SimpleInterest(2000,3,2)"
   ]
  },
  {
   "cell_type": "code",
   "execution_count": 18,
   "metadata": {},
   "outputs": [
    {
     "data": {
      "text/plain": [
       "120.0"
      ]
     },
     "execution_count": 18,
     "metadata": {},
     "output_type": "execute_result"
    }
   ],
   "source": [
    "si"
   ]
  },
  {
   "cell_type": "code",
   "execution_count": 19,
   "metadata": {},
   "outputs": [
    {
     "data": {
      "text/plain": [
       "2120.0"
      ]
     },
     "execution_count": 19,
     "metadata": {},
     "output_type": "execute_result"
    }
   ],
   "source": [
    "amt"
   ]
  },
  {
   "cell_type": "code",
   "execution_count": 20,
   "metadata": {},
   "outputs": [
    {
     "data": {
      "text/plain": [
       "(120.0, 2120.0)"
      ]
     },
     "execution_count": 20,
     "metadata": {},
     "output_type": "execute_result"
    }
   ],
   "source": [
    "si,amt"
   ]
  },
  {
   "cell_type": "code",
   "execution_count": 22,
   "metadata": {},
   "outputs": [
    {
     "data": {
      "text/plain": [
       "(120.0, 2120.0)"
      ]
     },
     "execution_count": 22,
     "metadata": {},
     "output_type": "execute_result"
    }
   ],
   "source": [
    "result    ## This is in tuple format"
   ]
  },
  {
   "cell_type": "code",
   "execution_count": 23,
   "metadata": {},
   "outputs": [
    {
     "data": {
      "text/plain": [
       "120.0"
      ]
     },
     "execution_count": 23,
     "metadata": {},
     "output_type": "execute_result"
    }
   ],
   "source": [
    "result[0]     ## Extracting particular result by providing the index value."
   ]
  },
  {
   "cell_type": "code",
   "execution_count": 24,
   "metadata": {},
   "outputs": [
    {
     "data": {
      "text/plain": [
       "2120.0"
      ]
     },
     "execution_count": 24,
     "metadata": {},
     "output_type": "execute_result"
    }
   ],
   "source": [
    "result[1]"
   ]
  },
  {
   "cell_type": "code",
   "execution_count": 35,
   "metadata": {},
   "outputs": [],
   "source": [
    "## To store above obtained results in a file.\n",
    "## Return function helps in getting this.\n",
    "\n",
    "line = 'Simple interest obtained is '+str(si) + ' And the amount is '+str(amt)"
   ]
  },
  {
   "cell_type": "code",
   "execution_count": 36,
   "metadata": {},
   "outputs": [
    {
     "data": {
      "text/plain": [
       "'Simple interest obtained is 120.0 And the amount is 2120.0'"
      ]
     },
     "execution_count": 36,
     "metadata": {},
     "output_type": "execute_result"
    }
   ],
   "source": [
    "line    ## Since si value is numerical we cant add it along with a string so we use (str) to convert si value to string."
   ]
  },
  {
   "cell_type": "markdown",
   "metadata": {},
   "source": [
    "## 1.1) Scope of a variable"
   ]
  },
  {
   "cell_type": "code",
   "execution_count": 48,
   "metadata": {},
   "outputs": [],
   "source": [
    "abc = 3\n",
    "\n",
    "def display():\n",
    "   # global abc   ## If we make abc a global variable then we can make any changes inside the function.\n",
    "    abc+=1\n",
    "    print(abc)"
   ]
  },
  {
   "cell_type": "code",
   "execution_count": 49,
   "metadata": {},
   "outputs": [
    {
     "ename": "UnboundLocalError",
     "evalue": "local variable 'abc' referenced before assignment",
     "output_type": "error",
     "traceback": [
      "\u001b[1;31m---------------------------------------------------------------------------\u001b[0m",
      "\u001b[1;31mUnboundLocalError\u001b[0m                         Traceback (most recent call last)",
      "\u001b[1;32m<ipython-input-49-4ab3b57d7e7c>\u001b[0m in \u001b[0;36m<module>\u001b[1;34m\u001b[0m\n\u001b[1;32m----> 1\u001b[1;33m \u001b[0mdisplay\u001b[0m\u001b[1;33m(\u001b[0m\u001b[1;33m)\u001b[0m\u001b[1;33m\u001b[0m\u001b[1;33m\u001b[0m\u001b[0m\n\u001b[0m",
      "\u001b[1;32m<ipython-input-48-f616ca7d0d40>\u001b[0m in \u001b[0;36mdisplay\u001b[1;34m()\u001b[0m\n\u001b[0;32m      3\u001b[0m \u001b[1;32mdef\u001b[0m \u001b[0mdisplay\u001b[0m\u001b[1;33m(\u001b[0m\u001b[1;33m)\u001b[0m\u001b[1;33m:\u001b[0m\u001b[1;33m\u001b[0m\u001b[1;33m\u001b[0m\u001b[0m\n\u001b[0;32m      4\u001b[0m    \u001b[1;31m# global abc   ## If we make abc a global variable then we can make any changes inside the function.\u001b[0m\u001b[1;33m\u001b[0m\u001b[1;33m\u001b[0m\u001b[1;33m\u001b[0m\u001b[0m\n\u001b[1;32m----> 5\u001b[1;33m     \u001b[0mabc\u001b[0m\u001b[1;33m+=\u001b[0m\u001b[1;36m1\u001b[0m\u001b[1;33m\u001b[0m\u001b[1;33m\u001b[0m\u001b[0m\n\u001b[0m\u001b[0;32m      6\u001b[0m     \u001b[0mprint\u001b[0m\u001b[1;33m(\u001b[0m\u001b[0mabc\u001b[0m\u001b[1;33m)\u001b[0m\u001b[1;33m\u001b[0m\u001b[1;33m\u001b[0m\u001b[0m\n",
      "\u001b[1;31mUnboundLocalError\u001b[0m: local variable 'abc' referenced before assignment"
     ]
    }
   ],
   "source": [
    "display()"
   ]
  },
  {
   "cell_type": "code",
   "execution_count": 3,
   "metadata": {},
   "outputs": [],
   "source": [
    "abc = 3   ## Global scope\n",
    "\n",
    "def display():\n",
    "    print(abc)     ## This will simply reflect abc."
   ]
  },
  {
   "cell_type": "code",
   "execution_count": 4,
   "metadata": {},
   "outputs": [
    {
     "name": "stdout",
     "output_type": "stream",
     "text": [
      "3\n"
     ]
    }
   ],
   "source": [
    "display()"
   ]
  },
  {
   "cell_type": "code",
   "execution_count": 5,
   "metadata": {},
   "outputs": [],
   "source": [
    "abc = 3\n",
    "\n",
    "def display():\n",
    "    abc = 3   ## This is having a local scope.\n",
    "    abc +=1\n",
    "    print(abc)"
   ]
  },
  {
   "cell_type": "code",
   "execution_count": 6,
   "metadata": {},
   "outputs": [
    {
     "name": "stdout",
     "output_type": "stream",
     "text": [
      "4\n"
     ]
    }
   ],
   "source": [
    "display()"
   ]
  },
  {
   "cell_type": "code",
   "execution_count": 7,
   "metadata": {},
   "outputs": [
    {
     "data": {
      "text/plain": [
       "3"
      ]
     },
     "execution_count": 7,
     "metadata": {},
     "output_type": "execute_result"
    }
   ],
   "source": [
    "abc    ## This will not effect abc variable defined outside the function."
   ]
  },
  {
   "cell_type": "code",
   "execution_count": 8,
   "metadata": {},
   "outputs": [],
   "source": [
    "abc = 3\n",
    "def display():\n",
    "    global abc  ## This will help in making chances in global scoped variable to have chances inside the function.\n",
    "    abc+=2     \n",
    "    print(abc)"
   ]
  },
  {
   "cell_type": "code",
   "execution_count": 9,
   "metadata": {},
   "outputs": [
    {
     "name": "stdout",
     "output_type": "stream",
     "text": [
      "5\n"
     ]
    }
   ],
   "source": [
    "display()"
   ]
  },
  {
   "cell_type": "markdown",
   "metadata": {},
   "source": [
    "# 1.2) List comprehension:"
   ]
  },
  {
   "cell_type": "code",
   "execution_count": null,
   "metadata": {},
   "outputs": [],
   "source": [
    "## It is the another way of writing the statements."
   ]
  },
  {
   "cell_type": "code",
   "execution_count": 7,
   "metadata": {},
   "outputs": [
    {
     "data": {
      "text/plain": [
       "[1, 4, 9, 16, 25, 36, 49, 64]"
      ]
     },
     "execution_count": 7,
     "metadata": {},
     "output_type": "execute_result"
    }
   ],
   "source": [
    "## WAP to square the numbers in the list.\n",
    "num = [1,2,3,4,5,6,7,8]\n",
    "sq=[]\n",
    "for each in num:\n",
    "    sq.append(each**2)\n",
    "\n",
    "sq"
   ]
  },
  {
   "cell_type": "code",
   "execution_count": 8,
   "metadata": {},
   "outputs": [
    {
     "data": {
      "text/plain": [
       "[1, 4, 9, 16, 25, 36, 49, 64]"
      ]
     },
     "execution_count": 8,
     "metadata": {},
     "output_type": "execute_result"
    }
   ],
   "source": [
    "## Writing the same above statement using list comprehension.\n",
    "\n",
    "sq1= [each**2 for each in num]\n",
    "sq1"
   ]
  },
  {
   "cell_type": "code",
   "execution_count": 9,
   "metadata": {},
   "outputs": [
    {
     "data": {
      "text/plain": [
       "[4, 16, 36, 64]"
      ]
     },
     "execution_count": 9,
     "metadata": {},
     "output_type": "execute_result"
    }
   ],
   "source": [
    "## WAP to sq the numbers in list which are even.\n",
    "\n",
    "sq2 = [each**2 for each in num if each%2==0]\n",
    "sq2"
   ]
  },
  {
   "cell_type": "code",
   "execution_count": 10,
   "metadata": {},
   "outputs": [
    {
     "data": {
      "text/plain": [
       "[4, 16, 36, 64]"
      ]
     },
     "execution_count": 10,
     "metadata": {},
     "output_type": "execute_result"
    }
   ],
   "source": [
    "sq3=[]\n",
    "for each in num:\n",
    "    if each%2==0:       \n",
    "        sq3.append(each**2)\n",
    "sq3"
   ]
  },
  {
   "cell_type": "code",
   "execution_count": 11,
   "metadata": {},
   "outputs": [
    {
     "data": {
      "text/plain": [
       "[4, 16, 36, 64]"
      ]
     },
     "execution_count": 11,
     "metadata": {},
     "output_type": "execute_result"
    }
   ],
   "source": [
    "sq4 = [each**2 for each in num[1::2]]\n",
    "sq4       ## Using slicing we can perform squaring of elements in the list for every 2 intervals"
   ]
  },
  {
   "cell_type": "code",
   "execution_count": 16,
   "metadata": {},
   "outputs": [
    {
     "data": {
      "text/plain": [
       "[1331, 144, 2197, 196, 3375, 256, 4913, 324, 6859, 400]"
      ]
     },
     "execution_count": 16,
     "metadata": {},
     "output_type": "execute_result"
    }
   ],
   "source": [
    "## WAP to square even numbers and cube the odd numbers present in the list.\n",
    "output=[]\n",
    "n=[11,12,13,14,15,16,17,18,19,20]\n",
    "for each in n:\n",
    "    if each%2==0:\n",
    "        output.append(each**2)\n",
    "    else:\n",
    "        output.append(each**3)\n",
    "output\n",
    "        "
   ]
  },
  {
   "cell_type": "code",
   "execution_count": 18,
   "metadata": {},
   "outputs": [],
   "source": [
    "result=[each**2 if each%2==0 else each**3 for each in n]  ## When their is a if else statements, syntax changes."
   ]
  },
  {
   "cell_type": "code",
   "execution_count": 19,
   "metadata": {},
   "outputs": [
    {
     "data": {
      "text/plain": [
       "[1331, 144, 2197, 196, 3375, 256, 4913, 324, 6859, 400]"
      ]
     },
     "execution_count": 19,
     "metadata": {},
     "output_type": "execute_result"
    }
   ],
   "source": [
    "result"
   ]
  },
  {
   "cell_type": "code",
   "execution_count": 28,
   "metadata": {},
   "outputs": [],
   "source": [
    "numbers = [21,22,33,46,81,97,33,39,66]\n",
    "res=[each**2 if each%2==0 else each**3 for each in numbers ]"
   ]
  },
  {
   "cell_type": "code",
   "execution_count": 30,
   "metadata": {},
   "outputs": [
    {
     "data": {
      "text/plain": [
       "[9261, 484, 35937, 2116, 531441, 912673, 35937, 59319, 4356]"
      ]
     },
     "execution_count": 30,
     "metadata": {},
     "output_type": "execute_result"
    }
   ],
   "source": [
    "res"
   ]
  },
  {
   "cell_type": "markdown",
   "metadata": {},
   "source": [
    "# 1.3) Lambda Functions:"
   ]
  },
  {
   "cell_type": "code",
   "execution_count": 34,
   "metadata": {},
   "outputs": [],
   "source": [
    "## LAMBDA is a unique way of writing the function. Most importantly it is used in nameless functions.\n",
    "## It is usually a single line computation.\n",
    "# WAP to square the given input numbers.\n",
    "def Square(num):\n",
    "    return(num**2)"
   ]
  },
  {
   "cell_type": "code",
   "execution_count": 39,
   "metadata": {},
   "outputs": [
    {
     "data": {
      "text/plain": [
       "16"
      ]
     },
     "execution_count": 39,
     "metadata": {},
     "output_type": "execute_result"
    }
   ],
   "source": [
    "Square(4)"
   ]
  },
  {
   "cell_type": "code",
   "execution_count": 44,
   "metadata": {},
   "outputs": [
    {
     "data": {
      "text/plain": [
       "40000"
      ]
     },
     "execution_count": 44,
     "metadata": {},
     "output_type": "execute_result"
    }
   ],
   "source": [
    "## Writing the same function using Lamda function:\n",
    "sq=lambda num : num**2\n",
    "sq(200)"
   ]
  },
  {
   "cell_type": "code",
   "execution_count": 48,
   "metadata": {},
   "outputs": [],
   "source": [
    "### WAP to find the SI using lambda def function.\n",
    "\n",
    "def SI(p,t,r):\n",
    "    return round(p*t*r/100,2)"
   ]
  },
  {
   "cell_type": "code",
   "execution_count": 52,
   "metadata": {},
   "outputs": [
    {
     "data": {
      "text/plain": [
       "148.08"
      ]
     },
     "execution_count": 52,
     "metadata": {},
     "output_type": "execute_result"
    }
   ],
   "source": [
    "SI(1234,4,3)"
   ]
  },
  {
   "cell_type": "code",
   "execution_count": 59,
   "metadata": {},
   "outputs": [],
   "source": [
    "SI1=lambda p,t,r : round(p*t*r/100.0,3)"
   ]
  },
  {
   "cell_type": "code",
   "execution_count": 60,
   "metadata": {},
   "outputs": [
    {
     "data": {
      "text/plain": [
       "148.08"
      ]
     },
     "execution_count": 60,
     "metadata": {},
     "output_type": "execute_result"
    }
   ],
   "source": [
    "SI1(1234,4,3)"
   ]
  },
  {
   "cell_type": "code",
   "execution_count": 6,
   "metadata": {},
   "outputs": [],
   "source": [
    "## WAP to know numbers in list even or odd:\n",
    "# 1)\n",
    "num=[1,2,3,4,5,6,7]\n",
    "def EvenorOdd(num):\n",
    "    if num%2==0:\n",
    "        return(num,'Even')\n",
    "    return(num,'Odd')"
   ]
  },
  {
   "cell_type": "code",
   "execution_count": 8,
   "metadata": {},
   "outputs": [
    {
     "data": {
      "text/plain": [
       "(1, 'Odd')"
      ]
     },
     "execution_count": 8,
     "metadata": {},
     "output_type": "execute_result"
    }
   ],
   "source": [
    "EvenorOdd(num[0])"
   ]
  },
  {
   "cell_type": "code",
   "execution_count": 9,
   "metadata": {},
   "outputs": [
    {
     "data": {
      "text/plain": [
       "[(1, 'Odd'),\n",
       " (2, 'Even'),\n",
       " (3, 'Odd'),\n",
       " (4, 'Even'),\n",
       " (5, 'Odd'),\n",
       " (6, 'Even'),\n",
       " (7, 'Odd')]"
      ]
     },
     "execution_count": 9,
     "metadata": {},
     "output_type": "execute_result"
    }
   ],
   "source": [
    "# 2) List Comprehension:\n",
    "\n",
    "[EvenorOdd(each) for each in num]"
   ]
  },
  {
   "cell_type": "markdown",
   "metadata": {},
   "source": [
    "# 1.4) Map and Filter functions:"
   ]
  },
  {
   "cell_type": "code",
   "execution_count": 10,
   "metadata": {},
   "outputs": [
    {
     "data": {
      "text/plain": [
       "[(1, 'Odd'),\n",
       " (2, 'Even'),\n",
       " (3, 'Odd'),\n",
       " (4, 'Even'),\n",
       " (5, 'Odd'),\n",
       " (6, 'Even'),\n",
       " (7, 'Odd')]"
      ]
     },
     "execution_count": 10,
     "metadata": {},
     "output_type": "execute_result"
    }
   ],
   "source": [
    "# 3) Using Map function:\n",
    "## Map is a inbuilt function which considers only functions and its sequence.\n",
    "\n",
    "list(map(EvenorOdd, num))"
   ]
  },
  {
   "cell_type": "code",
   "execution_count": 18,
   "metadata": {},
   "outputs": [
    {
     "data": {
      "text/plain": [
       "[(1, 'Odd'),\n",
       " (2, 'Even'),\n",
       " (3, 'Odd'),\n",
       " (4, 'Even'),\n",
       " (5, 'Odd'),\n",
       " (6, 'Even'),\n",
       " (7, 'Odd')]"
      ]
     },
     "execution_count": 18,
     "metadata": {},
     "output_type": "execute_result"
    }
   ],
   "source": [
    "list(map(lambda x: (x,'Even') if x%2==0 else (x,'Odd'),num))"
   ]
  },
  {
   "cell_type": "code",
   "execution_count": null,
   "metadata": {},
   "outputs": [],
   "source": [
    "##Above Syntax: lambda x:<Something if statement is true> if statement else <Execute else condition when if statement is false>"
   ]
  },
  {
   "cell_type": "code",
   "execution_count": 11,
   "metadata": {},
   "outputs": [],
   "source": [
    "def Square(num):\n",
    "    return(num**2)"
   ]
  },
  {
   "cell_type": "code",
   "execution_count": 12,
   "metadata": {},
   "outputs": [
    {
     "data": {
      "text/plain": [
       "[1, 4, 9, 16, 25, 36, 49]"
      ]
     },
     "execution_count": 12,
     "metadata": {},
     "output_type": "execute_result"
    }
   ],
   "source": [
    "list(map(Square,num))  ## List comprehension method."
   ]
  },
  {
   "cell_type": "code",
   "execution_count": 15,
   "metadata": {},
   "outputs": [
    {
     "data": {
      "text/plain": [
       "[1, 4, 9, 16, 25, 36, 49]"
      ]
     },
     "execution_count": 15,
     "metadata": {},
     "output_type": "execute_result"
    }
   ],
   "source": [
    "list(map(lambda n:n**2, num))"
   ]
  },
  {
   "cell_type": "code",
   "execution_count": 25,
   "metadata": {},
   "outputs": [],
   "source": [
    "## Filter Function:\n",
    "## WAP to check wheather the number divisible by 5 or not.\n",
    "## Filter is used when we required bolean values as a output.\n",
    "\n",
    "def Divisibleby5(num):\n",
    "    if num%5==0:\n",
    "        return True\n",
    "    return False\n"
   ]
  },
  {
   "cell_type": "code",
   "execution_count": 26,
   "metadata": {},
   "outputs": [
    {
     "data": {
      "text/plain": [
       "[45, 90, 890, 765, 25, 990]"
      ]
     },
     "execution_count": 26,
     "metadata": {},
     "output_type": "execute_result"
    }
   ],
   "source": [
    "list(filter(Divisibleby5,[32,45,90,234,456,890,765,25,990]))"
   ]
  },
  {
   "cell_type": "code",
   "execution_count": 28,
   "metadata": {},
   "outputs": [
    {
     "data": {
      "text/plain": [
       "[45, 90, 890, 765, 25, 990]"
      ]
     },
     "execution_count": 28,
     "metadata": {},
     "output_type": "execute_result"
    }
   ],
   "source": [
    "list(filter(lambda x: True if x%5==0 else False,[32,45,90,234,456,890,765,25,990]))"
   ]
  },
  {
   "cell_type": "code",
   "execution_count": 30,
   "metadata": {},
   "outputs": [
    {
     "data": {
      "text/plain": [
       "[45, 90, 890, 765, 25, 990]"
      ]
     },
     "execution_count": 30,
     "metadata": {},
     "output_type": "execute_result"
    }
   ],
   "source": [
    "Divby5=(lambda x: True if x%5==0 else False)\n",
    "list(filter(Divby5,[32,45,90,234,456,890,765,25,990]))"
   ]
  },
  {
   "cell_type": "code",
   "execution_count": 34,
   "metadata": {},
   "outputs": [
    {
     "data": {
      "text/plain": [
       "True"
      ]
     },
     "execution_count": 34,
     "metadata": {},
     "output_type": "execute_result"
    }
   ],
   "source": [
    "Divby5(110)"
   ]
  },
  {
   "cell_type": "markdown",
   "metadata": {},
   "source": [
    "# 1.5) Enumerate and Zip Functions:"
   ]
  },
  {
   "cell_type": "code",
   "execution_count": 35,
   "metadata": {},
   "outputs": [],
   "source": [
    "## Zip function combines the 2 variables based on their index.\n",
    "## Examples 1 :\n",
    "\n",
    "names = ('shreyas','Tejas','Latha','Manjappa')\n",
    "salary = (100,200,300,400)"
   ]
  },
  {
   "cell_type": "code",
   "execution_count": 36,
   "metadata": {},
   "outputs": [
    {
     "data": {
      "text/plain": [
       "[('shreyas', 100), ('Tejas', 200), ('Latha', 300), ('Manjappa', 400)]"
      ]
     },
     "execution_count": 36,
     "metadata": {},
     "output_type": "execute_result"
    }
   ],
   "source": [
    "list(zip(names,salary))   ## Zip function helps in combining both elements in the variable together.\n",
    "## Combining both variables together in the list format."
   ]
  },
  {
   "cell_type": "code",
   "execution_count": 37,
   "metadata": {},
   "outputs": [
    {
     "data": {
      "text/plain": [
       "{'shreyas': 100, 'Tejas': 200, 'Latha': 300, 'Manjappa': 400}"
      ]
     },
     "execution_count": 37,
     "metadata": {},
     "output_type": "execute_result"
    }
   ],
   "source": [
    "dict(zip(names,salary))   ## Combing in dictionary format."
   ]
  },
  {
   "cell_type": "code",
   "execution_count": 53,
   "metadata": {},
   "outputs": [],
   "source": [
    "import pandas as pd\n",
    "df=pd.DataFrame(list(zip(names,salary)),columns=['Names','Salary']).to_csv('SalaryDetails.csv')"
   ]
  },
  {
   "cell_type": "code",
   "execution_count": 15,
   "metadata": {},
   "outputs": [],
   "source": [
    "## Example 2:\n",
    "\n",
    "names = ('shreyas','Tejas','Latha','Manjappa','Sweety','Sonu','Yashu')\n",
    "salary = (100,200,300,400)\n",
    "Mobile = (98868,99807,85530,99453,98454)"
   ]
  },
  {
   "cell_type": "code",
   "execution_count": 58,
   "metadata": {},
   "outputs": [
    {
     "data": {
      "text/plain": [
       "[('shreyas', 100, 98868),\n",
       " ('Tejas', 200, 99807),\n",
       " ('Latha', 300, 85530),\n",
       " ('Manjappa', 400, 99453)]"
      ]
     },
     "execution_count": 58,
     "metadata": {},
     "output_type": "execute_result"
    }
   ],
   "source": [
    "list(zip(names,salary,Mobile))    \n",
    "## In this case, When their is a missmatch in the count of variables,It only combines which suits all the indexes."
   ]
  },
  {
   "cell_type": "code",
   "execution_count": 59,
   "metadata": {},
   "outputs": [
    {
     "ename": "ValueError",
     "evalue": "dictionary update sequence element #0 has length 3; 2 is required",
     "output_type": "error",
     "traceback": [
      "\u001b[1;31m---------------------------------------------------------------------------\u001b[0m",
      "\u001b[1;31mValueError\u001b[0m                                Traceback (most recent call last)",
      "\u001b[1;32m<ipython-input-59-cda6966836fc>\u001b[0m in \u001b[0;36m<module>\u001b[1;34m\u001b[0m\n\u001b[1;32m----> 1\u001b[1;33m \u001b[0mdict\u001b[0m\u001b[1;33m(\u001b[0m\u001b[0mzip\u001b[0m\u001b[1;33m(\u001b[0m\u001b[0mnames\u001b[0m\u001b[1;33m,\u001b[0m\u001b[0msalary\u001b[0m\u001b[1;33m,\u001b[0m\u001b[0mMobile\u001b[0m\u001b[1;33m)\u001b[0m\u001b[1;33m)\u001b[0m\u001b[1;33m\u001b[0m\u001b[1;33m\u001b[0m\u001b[0m\n\u001b[0m",
      "\u001b[1;31mValueError\u001b[0m: dictionary update sequence element #0 has length 3; 2 is required"
     ]
    }
   ],
   "source": [
    "dict(zip(names,salary,Mobile))   ## For dict it will not take 3 elements, Since it only have keys and it values."
   ]
  },
  {
   "cell_type": "code",
   "execution_count": 60,
   "metadata": {},
   "outputs": [
    {
     "data": {
      "text/plain": [
       "{'shreyas': 100, 'Tejas': 200, 'Latha': 300, 'Manjappa': 400}"
      ]
     },
     "execution_count": 60,
     "metadata": {},
     "output_type": "execute_result"
    }
   ],
   "source": [
    "dict(zip(names,salary))   ## Similar count indexes only gets matched."
   ]
  },
  {
   "cell_type": "code",
   "execution_count": 61,
   "metadata": {},
   "outputs": [],
   "source": [
    "## Example 3:\n",
    "\n",
    "names = ('shreyas','Tejas','Latha','Manjappa','Sweety','Sonu','Yashu')\n",
    "salary = (100,200,300,400)\n",
    "Mobile = (98868,99807,85530,99453,98454)"
   ]
  },
  {
   "cell_type": "code",
   "execution_count": 64,
   "metadata": {},
   "outputs": [
    {
     "data": {
      "text/plain": [
       "[(100, 98868), (200, 99807), (300, 85530), (400, 99453)]"
      ]
     },
     "execution_count": 64,
     "metadata": {},
     "output_type": "execute_result"
    }
   ],
   "source": [
    "Temp=list(zip(salary,Mobile))\n",
    "Temp"
   ]
  },
  {
   "cell_type": "code",
   "execution_count": 66,
   "metadata": {},
   "outputs": [
    {
     "data": {
      "text/plain": [
       "{'shreyas': (100, 98868),\n",
       " 'Tejas': (200, 99807),\n",
       " 'Latha': (300, 85530),\n",
       " 'Manjappa': (400, 99453)}"
      ]
     },
     "execution_count": 66,
     "metadata": {},
     "output_type": "execute_result"
    }
   ],
   "source": [
    "dict(zip(names,Temp))  ## This is how we add more than 3 variable into Dictionary format."
   ]
  },
  {
   "cell_type": "code",
   "execution_count": null,
   "metadata": {},
   "outputs": [],
   "source": []
  },
  {
   "cell_type": "markdown",
   "metadata": {},
   "source": [
    "# Enumerate:"
   ]
  },
  {
   "cell_type": "code",
   "execution_count": 16,
   "metadata": {},
   "outputs": [
    {
     "data": {
      "text/plain": [
       "('shreyas', 'Tejas', 'Latha', 'Manjappa', 'Sweety', 'Sonu', 'Yashu')"
      ]
     },
     "execution_count": 16,
     "metadata": {},
     "output_type": "execute_result"
    }
   ],
   "source": [
    "names"
   ]
  },
  {
   "cell_type": "code",
   "execution_count": 68,
   "metadata": {},
   "outputs": [
    {
     "name": "stdout",
     "output_type": "stream",
     "text": [
      "shreyas\n",
      "Tejas\n",
      "Latha\n",
      "Manjappa\n",
      "Sweety\n",
      "Sonu\n",
      "Yashu\n"
     ]
    }
   ],
   "source": [
    "for each in names:\n",
    "    print(each)    ## This is how we get elements present under the variable names."
   ]
  },
  {
   "cell_type": "code",
   "execution_count": 76,
   "metadata": {},
   "outputs": [
    {
     "name": "stdout",
     "output_type": "stream",
     "text": [
      "0 shreyas\n",
      "1 Tejas\n",
      "2 Latha\n",
      "3 Manjappa\n",
      "4 Sweety\n",
      "5 Sonu\n",
      "6 Yashu\n"
     ]
    }
   ],
   "source": [
    "for each in range(len(names)):\n",
    "    print(each,names[each])"
   ]
  },
  {
   "cell_type": "code",
   "execution_count": 77,
   "metadata": {},
   "outputs": [
    {
     "name": "stdout",
     "output_type": "stream",
     "text": [
      "0 shreyas\n",
      "1 Tejas\n",
      "2 Latha\n",
      "3 Manjappa\n",
      "4 Sweety\n",
      "5 Sonu\n",
      "6 Yashu\n"
     ]
    }
   ],
   "source": [
    "## Writing above statement using enumerate function.\n",
    "## Enumerate is used when you need the indexing or else we need to start with the sequence.\n",
    "\n",
    "for index,names in enumerate(names):\n",
    "    print(index,names)   ## This is used when we want multiple outcomes."
   ]
  },
  {
   "cell_type": "code",
   "execution_count": 82,
   "metadata": {},
   "outputs": [
    {
     "name": "stdout",
     "output_type": "stream",
     "text": [
      "0 100\n",
      "1 200\n",
      "2 300\n",
      "3 400\n"
     ]
    }
   ],
   "source": [
    "salary\n",
    "for i,e in enumerate(salary):\n",
    "    print(i,e)"
   ]
  },
  {
   "cell_type": "code",
   "execution_count": 7,
   "metadata": {},
   "outputs": [
    {
     "data": {
      "text/plain": [
       "[(5, 'shreyas'),\n",
       " (6, 'Tejas'),\n",
       " (7, 'Latha'),\n",
       " (8, 'Manjappa'),\n",
       " (9, 'Sweety'),\n",
       " (10, 'Sonu'),\n",
       " (11, 'Yashu')]"
      ]
     },
     "execution_count": 7,
     "metadata": {},
     "output_type": "execute_result"
    }
   ],
   "source": [
    "## Enumerate can alter the index. And it alwaya gives the index\n",
    "list(enumerate(names,5))"
   ]
  },
  {
   "cell_type": "code",
   "execution_count": 8,
   "metadata": {},
   "outputs": [],
   "source": [
    "names = ('shreyas','Tejas','Latha','Manjappa')\n",
    "salary = (100,200,300,400)\n",
    "\n",
    "d=list(zip(names,salary))   ## Combining to make it a list."
   ]
  },
  {
   "cell_type": "code",
   "execution_count": 9,
   "metadata": {},
   "outputs": [
    {
     "data": {
      "text/plain": [
       "[('shreyas', 100), ('Tejas', 200), ('Latha', 300), ('Manjappa', 400)]"
      ]
     },
     "execution_count": 9,
     "metadata": {},
     "output_type": "execute_result"
    }
   ],
   "source": [
    "d"
   ]
  },
  {
   "cell_type": "code",
   "execution_count": 10,
   "metadata": {},
   "outputs": [
    {
     "data": {
      "text/plain": [
       "[(0, ('shreyas', 100)),\n",
       " (1, ('Tejas', 200)),\n",
       " (2, ('Latha', 300)),\n",
       " (3, ('Manjappa', 400))]"
      ]
     },
     "execution_count": 10,
     "metadata": {},
     "output_type": "execute_result"
    }
   ],
   "source": [
    "list(enumerate(d))   ## Helps in getting elements along with the index.\n",
    "## For list values enumerate gives all the values for the respected index."
   ]
  },
  {
   "cell_type": "code",
   "execution_count": 12,
   "metadata": {},
   "outputs": [
    {
     "data": {
      "text/plain": [
       "{'shreyas': 100, 'Tejas': 200, 'Latha': 300, 'Manjappa': 400}"
      ]
     },
     "execution_count": 12,
     "metadata": {},
     "output_type": "execute_result"
    }
   ],
   "source": [
    "d1=dict(zip(names,salary))\n",
    "d1"
   ]
  },
  {
   "cell_type": "code",
   "execution_count": 13,
   "metadata": {},
   "outputs": [
    {
     "data": {
      "text/plain": [
       "[(0, 'shreyas'), (1, 'Tejas'), (2, 'Latha'), (3, 'Manjappa')]"
      ]
     },
     "execution_count": 13,
     "metadata": {},
     "output_type": "execute_result"
    }
   ],
   "source": [
    "list(enumerate(d1))    ## When we enumerate for the dictionary elements,it only considers key elements only."
   ]
  },
  {
   "cell_type": "code",
   "execution_count": 18,
   "metadata": {},
   "outputs": [
    {
     "data": {
      "text/plain": [
       "{0: 'shreyas', 1: 'Tejas', 2: 'Latha', 3: 'Manjappa'}"
      ]
     },
     "execution_count": 18,
     "metadata": {},
     "output_type": "execute_result"
    }
   ],
   "source": [
    "dict(enumerate(d1.keys()))   ## we can also convert to dictionary, but in this indexes will be converting to the keys."
   ]
  },
  {
   "cell_type": "markdown",
   "metadata": {},
   "source": [
    "## 2) Arguments of a FUNCTIONS:"
   ]
  },
  {
   "cell_type": "code",
   "execution_count": 1,
   "metadata": {},
   "outputs": [],
   "source": [
    "## Example 1:\n",
    "\n",
    "def Print(a,b,c,d):\n",
    "    print('Value of a: ',a)\n",
    "    print('Value of b: ',b)\n",
    "    print('Value of c: ',c)\n",
    "    print('Value of d: ',d)"
   ]
  },
  {
   "cell_type": "code",
   "execution_count": 2,
   "metadata": {},
   "outputs": [
    {
     "name": "stdout",
     "output_type": "stream",
     "text": [
      "Value of a:  1\n",
      "Value of b:  2\n",
      "Value of c:  3\n",
      "Value of d:  4\n"
     ]
    }
   ],
   "source": [
    "# Positional Arguments \n",
    "Print(1,2,3,4) ## This is positional Arguments, Values are added in the sequence."
   ]
  },
  {
   "cell_type": "code",
   "execution_count": 3,
   "metadata": {},
   "outputs": [
    {
     "name": "stdout",
     "output_type": "stream",
     "text": [
      "Value of a:  10\n",
      "Value of b:  15\n",
      "Value of c:  25\n",
      "Value of d:  8\n"
     ]
    }
   ],
   "source": [
    "# Keyword argument \n",
    "Print(c=25,d=8,a=10,b=15)  ## This is keyword argument "
   ]
  },
  {
   "cell_type": "code",
   "execution_count": 6,
   "metadata": {},
   "outputs": [
    {
     "name": "stdout",
     "output_type": "stream",
     "text": [
      "Value of a:  2\n",
      "Value of b:  1\n",
      "Value of c:  3\n",
      "Value of d:  5\n"
     ]
    }
   ],
   "source": [
    "Print(2,1,d=5,c=3) ## This is possible , assigning values both by keyword and positional."
   ]
  },
  {
   "cell_type": "code",
   "execution_count": 5,
   "metadata": {},
   "outputs": [
    {
     "ename": "SyntaxError",
     "evalue": "positional argument follows keyword argument (<ipython-input-5-c1803284a327>, line 1)",
     "output_type": "error",
     "traceback": [
      "\u001b[1;36m  File \u001b[1;32m\"<ipython-input-5-c1803284a327>\"\u001b[1;36m, line \u001b[1;32m1\u001b[0m\n\u001b[1;33m    Print(c=12,d=8,2,1)\u001b[0m\n\u001b[1;37m                  ^\u001b[0m\n\u001b[1;31mSyntaxError\u001b[0m\u001b[1;31m:\u001b[0m positional argument follows keyword argument\n"
     ]
    }
   ],
   "source": [
    "Print(c=12,d=8,2,1) # Positional argument do not follows keyword argument."
   ]
  },
  {
   "cell_type": "code",
   "execution_count": 7,
   "metadata": {},
   "outputs": [
    {
     "ename": "TypeError",
     "evalue": "Print() got multiple values for argument 'b'",
     "output_type": "error",
     "traceback": [
      "\u001b[1;31m---------------------------------------------------------------------------\u001b[0m",
      "\u001b[1;31mTypeError\u001b[0m                                 Traceback (most recent call last)",
      "\u001b[1;32m<ipython-input-7-f5108245bbdf>\u001b[0m in \u001b[0;36m<module>\u001b[1;34m\u001b[0m\n\u001b[1;32m----> 1\u001b[1;33m \u001b[0mPrint\u001b[0m\u001b[1;33m(\u001b[0m\u001b[1;36m1\u001b[0m\u001b[1;33m,\u001b[0m\u001b[1;36m2\u001b[0m\u001b[1;33m,\u001b[0m\u001b[0mb\u001b[0m\u001b[1;33m=\u001b[0m\u001b[1;36m3\u001b[0m\u001b[1;33m,\u001b[0m\u001b[0mc\u001b[0m\u001b[1;33m=\u001b[0m\u001b[1;36m4\u001b[0m\u001b[1;33m)\u001b[0m\u001b[1;33m\u001b[0m\u001b[1;33m\u001b[0m\u001b[0m\n\u001b[0m",
      "\u001b[1;31mTypeError\u001b[0m: Print() got multiple values for argument 'b'"
     ]
    }
   ],
   "source": [
    "Print(1,2,b=3,c=4)   #This is also not possible bcz,PA Conciders 2 as the value of B but again we defined the B value."
   ]
  },
  {
   "cell_type": "code",
   "execution_count": 8,
   "metadata": {},
   "outputs": [],
   "source": [
    "# Default argument:\n",
    "\n",
    "def Print(a,b,c,d=200):\n",
    "    print('Value of a: ',a)\n",
    "    print('Value of b: ',b)\n",
    "    print('Value of c: ',c)\n",
    "    print('Value of d: ',d)\n"
   ]
  },
  {
   "cell_type": "code",
   "execution_count": 10,
   "metadata": {},
   "outputs": [
    {
     "name": "stdout",
     "output_type": "stream",
     "text": [
      "Value of a:  20\n",
      "Value of b:  40\n",
      "Value of c:  40\n",
      "Value of d:  100\n"
     ]
    }
   ],
   "source": [
    "Print(20,40,c=40) # If Value not assigned to d, It automatically update with the Default value"
   ]
  },
  {
   "cell_type": "code",
   "execution_count": 13,
   "metadata": {},
   "outputs": [
    {
     "name": "stdout",
     "output_type": "stream",
     "text": [
      "Value of a:  75\n",
      "Value of b:  50\n",
      "Value of c:  25\n",
      "Value of d:  100\n"
     ]
    }
   ],
   "source": [
    "Print(c=25,b=50,d=100,a=75)"
   ]
  },
  {
   "cell_type": "code",
   "execution_count": 20,
   "metadata": {},
   "outputs": [
    {
     "name": "stdout",
     "output_type": "stream",
     "text": [
      "Value of a:  21\n",
      "Value of b:  87\n",
      "Value of c:  a\n",
      "Value of d:  98\n",
      "Value od e:  (55, 744, 741, 'acb', 'SHREYAS', 'yes')\n"
     ]
    }
   ],
   "source": [
    "## Variable length Argument:\n",
    "\n",
    "## Non keyworded arguments.\n",
    "## Keyworded arguments.\n",
    "\n",
    "# 1)  Non keyworded arguments: \n",
    "''' This is Non-keyworded arguments, It takes all the values in the sequence and \n",
    "                                     remaining will be given under the tuples'''\n",
    "def Print(a,b,c,d=200,*e):\n",
    "    print('Value of a: ',a)\n",
    "    print('Value of b: ',b)       \n",
    "    print('Value of c: ',c)\n",
    "    print('Value of d: ',d)\n",
    "    print('Value od e: ',e)\n",
    "    \n",
    "Print(21,87,'a',98,55,744,741,'acb','SHREYAS','yes')"
   ]
  },
  {
   "cell_type": "code",
   "execution_count": 22,
   "metadata": {},
   "outputs": [
    {
     "name": "stdout",
     "output_type": "stream",
     "text": [
      "Value of a:  21\n",
      "Value of b:  87\n",
      "Value of c:  a\n",
      "Value of d:  98\n",
      "Value of e:  (55, 744, 741, 'acb', 'SHREYAS', 'yes')\n",
      "Value of f:  {'name': 'Tejas', 'sal': 99807, 'dob': '71795', 'city': 'DVG'}\n"
     ]
    }
   ],
   "source": [
    "# 2) Keyworded Arguments:\n",
    "\n",
    "''' In this type of arguments initial values are alloted in the sequence, \n",
    "Single stared will be alloted with tuples And Double Stared are alloted with Dictionary data types'''\n",
    "\n",
    "def Print(a,b,c,d=200,*e,**f):\n",
    "    print('Value of a: ',a)\n",
    "    print('Value of b: ',b)       \n",
    "    print('Value of c: ',c)\n",
    "    print('Value of d: ',d)\n",
    "    print('Value of e: ',e)\n",
    "    print('Value of f: ',f)\n",
    "    \n",
    "Print(21,87,'a',98,55,744,741,'acb','SHREYAS','yes',name='Tejas',sal=99807,dob='71795',city='DVG')"
   ]
  },
  {
   "cell_type": "code",
   "execution_count": 23,
   "metadata": {},
   "outputs": [],
   "source": [
    "def Print(*args,**kargs):\n",
    "    print(args)\n",
    "    print(kargs)"
   ]
  },
  {
   "cell_type": "code",
   "execution_count": 25,
   "metadata": {},
   "outputs": [
    {
     "name": "stdout",
     "output_type": "stream",
     "text": [
      "(23, 4433, 324344, 566, 676, 12, 'acb', 'SHREYAS', 'yes')\n",
      "{'name': 'Tejas', 'sal': 99807, 'dob': '71795', 'city': 'DVG'}\n"
     ]
    }
   ],
   "source": [
    "Print(23,4433,324344,566,676,12,'acb','SHREYAS','yes',name='Tejas',sal=99807,dob='71795',city='DVG')"
   ]
  },
  {
   "cell_type": "markdown",
   "metadata": {},
   "source": [
    "#                       MODULES:"
   ]
  },
  {
   "cell_type": "code",
   "execution_count": 27,
   "metadata": {},
   "outputs": [],
   "source": [
    "## User defined Modules.\n",
    "## Pre system defined modules.\n",
    "\n",
    "## Below are the different ways of calling a function.\n",
    "\n",
    "import Calculator   # These are user defined function."
   ]
  },
  {
   "cell_type": "code",
   "execution_count": 29,
   "metadata": {},
   "outputs": [
    {
     "data": {
      "text/plain": [
       "44"
      ]
     },
     "execution_count": 29,
     "metadata": {},
     "output_type": "execute_result"
    }
   ],
   "source": [
    "Calculator.Add(22,22)"
   ]
  },
  {
   "cell_type": "code",
   "execution_count": 30,
   "metadata": {},
   "outputs": [
    {
     "data": {
      "text/plain": [
       "20.0"
      ]
     },
     "execution_count": 30,
     "metadata": {},
     "output_type": "execute_result"
    }
   ],
   "source": [
    "Calculator.Div(200,10)"
   ]
  },
  {
   "cell_type": "code",
   "execution_count": 31,
   "metadata": {},
   "outputs": [],
   "source": [
    "import Calculator as cal"
   ]
  },
  {
   "cell_type": "code",
   "execution_count": 33,
   "metadata": {},
   "outputs": [
    {
     "data": {
      "text/plain": [
       "100"
      ]
     },
     "execution_count": 33,
     "metadata": {},
     "output_type": "execute_result"
    }
   ],
   "source": [
    "cal.Mul(10,10)"
   ]
  },
  {
   "cell_type": "code",
   "execution_count": 35,
   "metadata": {},
   "outputs": [],
   "source": [
    "from Calculator import Sub as s"
   ]
  },
  {
   "cell_type": "code",
   "execution_count": 37,
   "metadata": {},
   "outputs": [
    {
     "data": {
      "text/plain": [
       "20"
      ]
     },
     "execution_count": 37,
     "metadata": {},
     "output_type": "execute_result"
    }
   ],
   "source": [
    "s(25,5)"
   ]
  },
  {
   "cell_type": "code",
   "execution_count": 2,
   "metadata": {},
   "outputs": [
    {
     "ename": "NameError",
     "evalue": "name 'cal' is not defined",
     "output_type": "error",
     "traceback": [
      "\u001b[1;31m---------------------------------------------------------------------------\u001b[0m",
      "\u001b[1;31mNameError\u001b[0m                                 Traceback (most recent call last)",
      "\u001b[1;32m<ipython-input-2-271f2f6f41c0>\u001b[0m in \u001b[0;36m<module>\u001b[1;34m\u001b[0m\n\u001b[1;32m----> 1\u001b[1;33m \u001b[0mcal\u001b[0m\u001b[1;33m.\u001b[0m\u001b[0mMul\u001b[0m\u001b[1;33m(\u001b[0m\u001b[1;36m20\u001b[0m\u001b[1;33m,\u001b[0m\u001b[1;36m10\u001b[0m\u001b[1;33m)\u001b[0m\u001b[1;33m\u001b[0m\u001b[1;33m\u001b[0m\u001b[0m\n\u001b[0m",
      "\u001b[1;31mNameError\u001b[0m: name 'cal' is not defined"
     ]
    }
   ],
   "source": [
    "cal.Mul(20,10)"
   ]
  },
  {
   "cell_type": "code",
   "execution_count": 2,
   "metadata": {},
   "outputs": [],
   "source": [
    "import sys   ## This is the predefined functions"
   ]
  },
  {
   "cell_type": "code",
   "execution_count": 3,
   "metadata": {},
   "outputs": [
    {
     "data": {
      "text/plain": [
       "['C:\\\\Users\\\\User\\\\Desktop\\\\EDUREKHA\\\\MODULE 2',\n",
       " 'C:\\\\Users\\\\User\\\\Anaconda3\\\\python37.zip',\n",
       " 'C:\\\\Users\\\\User\\\\Anaconda3\\\\DLLs',\n",
       " 'C:\\\\Users\\\\User\\\\Anaconda3\\\\lib',\n",
       " 'C:\\\\Users\\\\User\\\\Anaconda3',\n",
       " '',\n",
       " 'C:\\\\Users\\\\User\\\\Anaconda3\\\\lib\\\\site-packages',\n",
       " 'C:\\\\Users\\\\User\\\\Anaconda3\\\\lib\\\\site-packages\\\\win32',\n",
       " 'C:\\\\Users\\\\User\\\\Anaconda3\\\\lib\\\\site-packages\\\\win32\\\\lib',\n",
       " 'C:\\\\Users\\\\User\\\\Anaconda3\\\\lib\\\\site-packages\\\\Pythonwin',\n",
       " 'C:\\\\Users\\\\User\\\\Anaconda3\\\\lib\\\\site-packages\\\\IPython\\\\extensions',\n",
       " 'C:\\\\Users\\\\User\\\\.ipython']"
      ]
     },
     "execution_count": 3,
     "metadata": {},
     "output_type": "execute_result"
    }
   ],
   "source": [
    "sys.path"
   ]
  },
  {
   "cell_type": "code",
   "execution_count": 13,
   "metadata": {},
   "outputs": [],
   "source": [
    "sys.path.append('G:\\ExcelR Material DATA SCIENCE\\Phython Assignments\\Phython Basics')\n",
    "## This is how we adds the path into the Jupitor Notebook."
   ]
  },
  {
   "cell_type": "code",
   "execution_count": 14,
   "metadata": {},
   "outputs": [],
   "source": [
    "import Calculator "
   ]
  },
  {
   "cell_type": "code",
   "execution_count": 15,
   "metadata": {},
   "outputs": [],
   "source": [
    "import Calculator as c"
   ]
  },
  {
   "cell_type": "code",
   "execution_count": 16,
   "metadata": {},
   "outputs": [
    {
     "data": {
      "text/plain": [
       "12"
      ]
     },
     "execution_count": 16,
     "metadata": {},
     "output_type": "execute_result"
    }
   ],
   "source": [
    "c.Add(2,10)"
   ]
  },
  {
   "cell_type": "code",
   "execution_count": 17,
   "metadata": {},
   "outputs": [],
   "source": [
    "from Calculator import Sub as s"
   ]
  },
  {
   "cell_type": "code",
   "execution_count": 18,
   "metadata": {},
   "outputs": [
    {
     "data": {
      "text/plain": [
       "5"
      ]
     },
     "execution_count": 18,
     "metadata": {},
     "output_type": "execute_result"
    }
   ],
   "source": [
    "s(25,20)"
   ]
  },
  {
   "cell_type": "code",
   "execution_count": 19,
   "metadata": {},
   "outputs": [
    {
     "data": {
      "text/plain": [
       "700"
      ]
     },
     "execution_count": 19,
     "metadata": {},
     "output_type": "execute_result"
    }
   ],
   "source": [
    "c.Mul(70,10)"
   ]
  },
  {
   "cell_type": "code",
   "execution_count": 23,
   "metadata": {},
   "outputs": [
    {
     "name": "stdout",
     "output_type": "stream",
     "text": [
      "[85, 75, 25, 94, 100, 393, 75, 15, 20]\n"
     ]
    }
   ],
   "source": [
    "## EXAMPLE:\n",
    "\n",
    "## Using list comprehension :\n",
    "## WAP to print a list of numbers by removing, 0th,3rd,7th indexed numbers.\n",
    "## In the given list of values [12,85,75,64,25,94,100,35,393,75,15,20]\n",
    "\n",
    "y=[12,85,75,64,25,94,100,35,393,75,15,20]\n",
    "y=[n for i,n in enumerate(y) if i not in (0,3,7)]\n",
    "print(y)"
   ]
  },
  {
   "cell_type": "markdown",
   "metadata": {},
   "source": [
    "# OBJECT ORIENTED PROGRAMMING:"
   ]
  },
  {
   "cell_type": "markdown",
   "metadata": {},
   "source": [
    "# Class and Object:"
   ]
  },
  {
   "cell_type": "code",
   "execution_count": 24,
   "metadata": {},
   "outputs": [],
   "source": [
    "## CLASS : Class is a collection of functions and variable.\n",
    "\n",
    "## Object : It is instance of a class helps in accessing the class."
   ]
  },
  {
   "cell_type": "code",
   "execution_count": 48,
   "metadata": {},
   "outputs": [],
   "source": [
    "## WAP to help flourist to get the flower detais:\n",
    "\n",
    "class Flowers():\n",
    "## We need to add self in every function to access inside the class.\n",
    "## It is a parameter/rule to access the functions.\n",
    "## Instance Method:(SELF)  \n",
    "    def printname(self,name):\n",
    "        print('Name: ',name)\n",
    "        \n",
    "    def printcolor(self,color):\n",
    "        print('Color: ',color)\n",
    "        \n",
    "    def printquantity(self,quantity):\n",
    "        print('quantity: ',quantity)\n",
    "        \n",
    "    def printalldetails(self):\n",
    "        self.printname()\n",
    "        self.printcolor()\n",
    "        self.printquantity()"
   ]
  },
  {
   "cell_type": "code",
   "execution_count": 49,
   "metadata": {},
   "outputs": [],
   "source": [
    "f1=Flowers()    ## Calling up of the objects."
   ]
  },
  {
   "cell_type": "code",
   "execution_count": 55,
   "metadata": {},
   "outputs": [
    {
     "name": "stdout",
     "output_type": "stream",
     "text": [
      "Color:  Yellow\n"
     ]
    }
   ],
   "source": [
    "f1.printcolor('yellow')"
   ]
  },
  {
   "cell_type": "code",
   "execution_count": 51,
   "metadata": {},
   "outputs": [
    {
     "name": "stdout",
     "output_type": "stream",
     "text": [
      "Name:  Roses\n"
     ]
    }
   ],
   "source": [
    "f1.printname('Roses')"
   ]
  },
  {
   "cell_type": "code",
   "execution_count": 52,
   "metadata": {
    "scrolled": true
   },
   "outputs": [
    {
     "ename": "TypeError",
     "evalue": "printname() missing 1 required positional argument: 'name'",
     "output_type": "error",
     "traceback": [
      "\u001b[1;31m---------------------------------------------------------------------------\u001b[0m",
      "\u001b[1;31mTypeError\u001b[0m                                 Traceback (most recent call last)",
      "\u001b[1;32m<ipython-input-52-a990a0844c8b>\u001b[0m in \u001b[0;36m<module>\u001b[1;34m\u001b[0m\n\u001b[1;32m----> 1\u001b[1;33m \u001b[0mf1\u001b[0m\u001b[1;33m.\u001b[0m\u001b[0mprintalldetails\u001b[0m\u001b[1;33m(\u001b[0m\u001b[1;33m)\u001b[0m\u001b[1;33m\u001b[0m\u001b[1;33m\u001b[0m\u001b[0m\n\u001b[0m",
      "\u001b[1;32m<ipython-input-48-3274251142eb>\u001b[0m in \u001b[0;36mprintalldetails\u001b[1;34m(self)\u001b[0m\n\u001b[0;32m     14\u001b[0m \u001b[1;33m\u001b[0m\u001b[0m\n\u001b[0;32m     15\u001b[0m     \u001b[1;32mdef\u001b[0m \u001b[0mprintalldetails\u001b[0m\u001b[1;33m(\u001b[0m\u001b[0mself\u001b[0m\u001b[1;33m)\u001b[0m\u001b[1;33m:\u001b[0m\u001b[1;33m\u001b[0m\u001b[1;33m\u001b[0m\u001b[0m\n\u001b[1;32m---> 16\u001b[1;33m         \u001b[0mself\u001b[0m\u001b[1;33m.\u001b[0m\u001b[0mprintname\u001b[0m\u001b[1;33m(\u001b[0m\u001b[1;33m)\u001b[0m\u001b[1;33m\u001b[0m\u001b[1;33m\u001b[0m\u001b[0m\n\u001b[0m\u001b[0;32m     17\u001b[0m         \u001b[0mself\u001b[0m\u001b[1;33m.\u001b[0m\u001b[0mprintcolor\u001b[0m\u001b[1;33m(\u001b[0m\u001b[1;33m)\u001b[0m\u001b[1;33m\u001b[0m\u001b[1;33m\u001b[0m\u001b[0m\n\u001b[0;32m     18\u001b[0m         \u001b[0mself\u001b[0m\u001b[1;33m.\u001b[0m\u001b[0mprintquantity\u001b[0m\u001b[1;33m(\u001b[0m\u001b[1;33m)\u001b[0m\u001b[1;33m\u001b[0m\u001b[1;33m\u001b[0m\u001b[0m\n",
      "\u001b[1;31mTypeError\u001b[0m: printname() missing 1 required positional argument: 'name'"
     ]
    }
   ],
   "source": [
    "f1.printalldetails()"
   ]
  },
  {
   "cell_type": "code",
   "execution_count": 3,
   "metadata": {},
   "outputs": [],
   "source": [
    "name='silly'             ## When we not use the self inside the class , it will consider global variable and gives the output.\n",
    "color='silver'           ## When we not use self it will considers global variable.\n",
    "quantity=9000\n",
    "\n",
    "class Flowers():\n",
    "    \n",
    "    name='Lilly'\n",
    "    color='Gold'\n",
    "    quantity=900\n",
    "\n",
    "    def printname(self):\n",
    "        print('Name: ',name)\n",
    "        \n",
    "    def printcolor(self):\n",
    "        print('Color: ',color)\n",
    "        \n",
    "    def printquantity(self):\n",
    "        print('Quantity: ',quantity)\n",
    "        "
   ]
  },
  {
   "cell_type": "code",
   "execution_count": 5,
   "metadata": {},
   "outputs": [
    {
     "name": "stdout",
     "output_type": "stream",
     "text": [
      "Color:  silver\n",
      "Name:  silly\n",
      "Quantity:  9000\n"
     ]
    }
   ],
   "source": [
    "f1=Flowers()\n",
    "f1.printcolor()\n",
    "f1.printname()\n",
    "f1.printquantity()"
   ]
  },
  {
   "cell_type": "code",
   "execution_count": 12,
   "metadata": {},
   "outputs": [
    {
     "name": "stdout",
     "output_type": "stream",
     "text": [
      "Name:  Lilly\n",
      "Color:  Gold\n",
      "Quantity:  900\n"
     ]
    }
   ],
   "source": [
    "name='silly'              ## When we use self parameter it will consider variable inside the class.\n",
    "quantity=9000\n",
    "color='Green'\n",
    "\n",
    "class Flowers():\n",
    "    \n",
    "    name='Lilly'\n",
    "    color='Gold'\n",
    "    quantity=900\n",
    "\n",
    "    def printname(self):    ## This self is for invoking the accessing the function.\n",
    "        print('Name: ',self.name)   ## And this one is for accessing the variable.\n",
    "        \n",
    "    def printcolor(self):\n",
    "        print('Color: ',self.color)\n",
    "        \n",
    "    def printquantity(self):\n",
    "        print('Quantity: ',self.quantity)\n",
    "        \n",
    "    def printalldetails(self):\n",
    "        self.printname()\n",
    "        self.printcolor()\n",
    "        self.printquantity()\n",
    "\n",
    "f1=Flowers()\n",
    "f1.printalldetails()\n",
    "#f1.printname()\n",
    "#f1.printcolor()\n",
    "#f1.printquantity()"
   ]
  },
  {
   "cell_type": "code",
   "execution_count": null,
   "metadata": {},
   "outputs": [],
   "source": [
    "### CONSTRUCTOR: It is the special function , which initializes the input values.\n",
    "## It is always written or given using \"__init__\""
   ]
  },
  {
   "cell_type": "code",
   "execution_count": 3,
   "metadata": {},
   "outputs": [],
   "source": [
    "class Flowers():\n",
    "    \n",
    "    def __init__(self,n,c,q):\n",
    "        self.name=n\n",
    "        self.color=c\n",
    "        self.quantity=q\n",
    "        \n",
    "    def Printname(self):\n",
    "        print('Name: ',self.name)\n",
    "        \n",
    "    def Printcolor(self):\n",
    "        print('Color: ',self.color)\n",
    "        \n",
    "    def Printquantity(self):\n",
    "        print('Quantity: ',self.quantity)\n",
    "        \n",
    "    def PrintAllDetails(self):\n",
    "        self.Printname()\n",
    "        self.Printcolor()\n",
    "        self.Printquantity()\n",
    "        "
   ]
  },
  {
   "cell_type": "code",
   "execution_count": 4,
   "metadata": {},
   "outputs": [
    {
     "name": "stdout",
     "output_type": "stream",
     "text": [
      "Name:  Rose\n",
      "Color:  White\n",
      "Quantity:  1000\n"
     ]
    }
   ],
   "source": [
    "f1=Flowers('Rose','White',1000)\n",
    "f1.PrintAllDetails()"
   ]
  },
  {
   "cell_type": "code",
   "execution_count": 6,
   "metadata": {},
   "outputs": [
    {
     "name": "stdout",
     "output_type": "stream",
     "text": [
      "Name:  Lilly\n",
      "Color:  Gold\n",
      "Quantity:  1500\n"
     ]
    }
   ],
   "source": [
    "f2=Flowers('Lilly','Gold',1500)\n",
    "f2.PrintAllDetails()"
   ]
  },
  {
   "cell_type": "code",
   "execution_count": 1,
   "metadata": {},
   "outputs": [],
   "source": [
    "import sys\n",
    "sys.path.append(\"C:/Users/User/Desktop/EDUREKHA\")   \n",
    "## This will help in adding the python user defined module Jupitor working environment."
   ]
  },
  {
   "cell_type": "code",
   "execution_count": 2,
   "metadata": {},
   "outputs": [],
   "source": [
    "import Calculator2"
   ]
  },
  {
   "cell_type": "code",
   "execution_count": 3,
   "metadata": {},
   "outputs": [],
   "source": [
    "from Calculator2 import calci"
   ]
  },
  {
   "cell_type": "code",
   "execution_count": 4,
   "metadata": {},
   "outputs": [],
   "source": [
    "c=calci(22,20)   ## This is the creation of object."
   ]
  },
  {
   "cell_type": "code",
   "execution_count": 5,
   "metadata": {},
   "outputs": [
    {
     "name": "stdout",
     "output_type": "stream",
     "text": [
      "Add:  42\n"
     ]
    }
   ],
   "source": [
    "c.Add()"
   ]
  },
  {
   "cell_type": "code",
   "execution_count": 6,
   "metadata": {},
   "outputs": [
    {
     "name": "stdout",
     "output_type": "stream",
     "text": [
      "Qoutient:  1.1\n"
     ]
    }
   ],
   "source": [
    "c.Div()"
   ]
  },
  {
   "cell_type": "code",
   "execution_count": 7,
   "metadata": {},
   "outputs": [
    {
     "name": "stdout",
     "output_type": "stream",
     "text": [
      "Product:  440\n"
     ]
    }
   ],
   "source": [
    "c.Mul()"
   ]
  },
  {
   "cell_type": "code",
   "execution_count": 84,
   "metadata": {},
   "outputs": [],
   "source": [
    "import importlib    ### This is the predefined function inside the python."
   ]
  },
  {
   "cell_type": "code",
   "execution_count": 85,
   "metadata": {},
   "outputs": [],
   "source": [
    "from importlib import reload ## This reload funtion helps in accessing the newly defined user funtions."
   ]
  },
  {
   "cell_type": "code",
   "execution_count": 86,
   "metadata": {},
   "outputs": [
    {
     "data": {
      "text/plain": [
       "<module 'Calculator2' from 'C:/Users/User/Desktop/EDUREKHA\\\\Calculator2.py'>"
      ]
     },
     "execution_count": 86,
     "metadata": {},
     "output_type": "execute_result"
    }
   ],
   "source": [
    "reload(Calculator2)   ## This is hw we reload the functions."
   ]
  },
  {
   "cell_type": "code",
   "execution_count": 87,
   "metadata": {},
   "outputs": [],
   "source": [
    "from Calculator2 import Interest"
   ]
  },
  {
   "cell_type": "code",
   "execution_count": 48,
   "metadata": {},
   "outputs": [],
   "source": [
    "##  Example 2 : Using another user defined function\n",
    "import Class\n",
    "from Class import calci"
   ]
  },
  {
   "cell_type": "code",
   "execution_count": 50,
   "metadata": {},
   "outputs": [],
   "source": [
    "c=calci(22,20)"
   ]
  },
  {
   "cell_type": "code",
   "execution_count": 51,
   "metadata": {},
   "outputs": [
    {
     "name": "stdout",
     "output_type": "stream",
     "text": [
      "Add:  42\n"
     ]
    }
   ],
   "source": [
    "c.Add()"
   ]
  },
  {
   "cell_type": "code",
   "execution_count": 52,
   "metadata": {},
   "outputs": [
    {
     "name": "stdout",
     "output_type": "stream",
     "text": [
      "Sub:  2\n"
     ]
    }
   ],
   "source": [
    "c.Sub()"
   ]
  },
  {
   "cell_type": "code",
   "execution_count": 53,
   "metadata": {},
   "outputs": [
    {
     "name": "stdout",
     "output_type": "stream",
     "text": [
      "Division:  1.1\n"
     ]
    }
   ],
   "source": [
    "c.Div()"
   ]
  },
  {
   "cell_type": "code",
   "execution_count": 54,
   "metadata": {},
   "outputs": [
    {
     "name": "stdout",
     "output_type": "stream",
     "text": [
      "Product:  440\n"
     ]
    }
   ],
   "source": [
    "c.Mul()"
   ]
  },
  {
   "cell_type": "code",
   "execution_count": 55,
   "metadata": {},
   "outputs": [],
   "source": [
    "from Class import Interest"
   ]
  },
  {
   "cell_type": "code",
   "execution_count": 56,
   "metadata": {},
   "outputs": [],
   "source": [
    "c1=Interest(1000,2,3)"
   ]
  },
  {
   "cell_type": "code",
   "execution_count": 57,
   "metadata": {},
   "outputs": [
    {
     "data": {
      "text/plain": [
       "60.0"
      ]
     },
     "execution_count": 57,
     "metadata": {},
     "output_type": "execute_result"
    }
   ],
   "source": [
    "c1.si()"
   ]
  },
  {
   "cell_type": "code",
   "execution_count": 69,
   "metadata": {},
   "outputs": [],
   "source": [
    "import importlib \n",
    "from importlib import reload"
   ]
  },
  {
   "cell_type": "code",
   "execution_count": 70,
   "metadata": {},
   "outputs": [
    {
     "data": {
      "text/plain": [
       "<module 'Class' from 'C:/Users/User/Desktop/EDUREKHA\\\\Class.py'>"
      ]
     },
     "execution_count": 70,
     "metadata": {},
     "output_type": "execute_result"
    }
   ],
   "source": [
    "reload(Class)"
   ]
  },
  {
   "cell_type": "code",
   "execution_count": 71,
   "metadata": {},
   "outputs": [],
   "source": [
    "from Class import Interest"
   ]
  },
  {
   "cell_type": "code",
   "execution_count": 72,
   "metadata": {},
   "outputs": [],
   "source": [
    "c1=Interest(2000,2,3)"
   ]
  },
  {
   "cell_type": "code",
   "execution_count": 73,
   "metadata": {},
   "outputs": [
    {
     "data": {
      "text/plain": [
       "120.0"
      ]
     },
     "execution_count": 73,
     "metadata": {},
     "output_type": "execute_result"
    }
   ],
   "source": [
    "c1.si()"
   ]
  },
  {
   "cell_type": "code",
   "execution_count": 11,
   "metadata": {},
   "outputs": [],
   "source": [
    "## Example of writing lambda function inside the class.\n",
    "class Interest():\n",
    "    \n",
    "    def __init__(self,p,r,t):\n",
    "        self.p=p\n",
    "        self.r=r\n",
    "        self.t=t            \n",
    "    \n",
    "    si=lambda self : round((self.p*self.t*self.r)/100.0,2)\n",
    "    "
   ]
  },
  {
   "cell_type": "code",
   "execution_count": 12,
   "metadata": {},
   "outputs": [],
   "source": [
    "f1=Interest(5000,2,3)"
   ]
  },
  {
   "cell_type": "code",
   "execution_count": 13,
   "metadata": {},
   "outputs": [
    {
     "data": {
      "text/plain": [
       "300.0"
      ]
     },
     "execution_count": 13,
     "metadata": {},
     "output_type": "execute_result"
    }
   ],
   "source": [
    "f1.si()"
   ]
  },
  {
   "cell_type": "code",
   "execution_count": 14,
   "metadata": {},
   "outputs": [],
   "source": [
    "### EXCERSISE Programming for CLASS:\n",
    "\n",
    "## WAP which has the following :\n",
    "\n",
    "## Class name: Divisibility\n",
    "## variable: num   (It takes the constructor to input the variable)\n",
    "## Function: 1) By2  2) By3   3)By5.\n"
   ]
  },
  {
   "cell_type": "code",
   "execution_count": 30,
   "metadata": {},
   "outputs": [
    {
     "name": "stdout",
     "output_type": "stream",
     "text": [
      "Enter the value: 30\n",
      "Divisible by 2 \n",
      "Divisible by 3 \n",
      "Divisible by 5 \n"
     ]
    }
   ],
   "source": [
    "class Divisibility():\n",
    "    \n",
    "    def __init__(self,num):\n",
    "        self.num=num\n",
    "        \n",
    "    def by2(self):\n",
    "        if self.num%2==0:\n",
    "            print('Divisible by 2 ')\n",
    "            \n",
    "    def by3(self):\n",
    "        if self.num%3==0:\n",
    "            print('Divisible by 3 ')        \n",
    "            \n",
    "    def by5(self):\n",
    "        if self.num%5==0:\n",
    "            print('Divisible by 5 ')\n",
    "            \n",
    "ip_value=int(input('Enter the value: '))\n",
    "div=Divisibility(ip_value)\n",
    "div.by2()\n",
    "div.by3()\n",
    "div.by5()    "
   ]
  },
  {
   "cell_type": "markdown",
   "metadata": {},
   "source": [
    "## OOP Principles:"
   ]
  },
  {
   "cell_type": "code",
   "execution_count": 31,
   "metadata": {},
   "outputs": [],
   "source": [
    "## OOP Principles:\n",
    "   # 1) Abstraction: It gives only the exact info without giving the actual implementation.\n",
    "    \n",
    "   # 2) Encapsulation: It combines function and variable in a unit called class.\n",
    "\n",
    "   # 3) Inheritence: It helps the attributes/properties of the class to get inherited/extended with the other class.\n",
    "    \n",
    "   # 4) overriding: Inheritence helps in performing the overriding.\n",
    "   \n",
    "    # 5) Polymorphism."
   ]
  },
  {
   "cell_type": "code",
   "execution_count": 32,
   "metadata": {},
   "outputs": [],
   "source": [
    "## Example for inheritance:\n",
    "\n",
    "class A():\n",
    "    def DisplayA(self):\n",
    "        print('I am the function of class A')\n",
    "        \n",
    "class B():\n",
    "    def DisplayB(self):\n",
    "        print('I am the function of class B')\n",
    "\n",
    "class C():\n",
    "    def DisplayC(self):\n",
    "        print('I am the function of class C')\n",
    "        \n",
    "class D():\n",
    "    def DisplayD(self):\n",
    "        print('I am the function of class D')"
   ]
  },
  {
   "cell_type": "code",
   "execution_count": 37,
   "metadata": {},
   "outputs": [
    {
     "name": "stdout",
     "output_type": "stream",
     "text": [
      "I am the function of class A\n"
     ]
    }
   ],
   "source": [
    "a=A()\n",
    "a.DisplayA()"
   ]
  },
  {
   "cell_type": "code",
   "execution_count": 38,
   "metadata": {},
   "outputs": [
    {
     "name": "stdout",
     "output_type": "stream",
     "text": [
      "I am the function of class B\n"
     ]
    }
   ],
   "source": [
    "b=B()   ## Object calling\n",
    "b.DisplayB()"
   ]
  },
  {
   "cell_type": "code",
   "execution_count": null,
   "metadata": {},
   "outputs": [],
   "source": [
    "# Scenerios:\n",
    " ## What if?\n",
    "    # Class B wanted to have the properties of class A.\n",
    "    # Class c wanter to have the properties of class A and B.\n",
    "    # Class c wanted to have the properties of B and Class D to have the properties of c."
   ]
  },
  {
   "cell_type": "code",
   "execution_count": 51,
   "metadata": {},
   "outputs": [],
   "source": [
    "# Class B wanted to have the properties of class A.   ## This is called SINGLE LEVEL INHERITENCE.\n",
    "class A():\n",
    "    def DisplayA(self):\n",
    "        print('I am the function of class A')\n",
    "        \n",
    "class B(A):\n",
    "    def DisplayB(self):\n",
    "        print('I am the function of class B')"
   ]
  },
  {
   "cell_type": "code",
   "execution_count": 52,
   "metadata": {},
   "outputs": [],
   "source": [
    "b=B()"
   ]
  },
  {
   "cell_type": "code",
   "execution_count": 53,
   "metadata": {},
   "outputs": [
    {
     "name": "stdout",
     "output_type": "stream",
     "text": [
      "I am the function of class A\n",
      "I am the function of class B\n"
     ]
    }
   ],
   "source": [
    "b.DisplayA()\n",
    "b.DisplayB()"
   ]
  },
  {
   "cell_type": "code",
   "execution_count": 54,
   "metadata": {},
   "outputs": [],
   "source": [
    "# Class c wanted to have the properties of class A and B.   ## MULTIPLE INHERITENCE\n",
    "\n",
    "class A():\n",
    "    def DisplayA(self):\n",
    "        print('I am the function of class A')\n",
    "        \n",
    "class B():\n",
    "    def DisplayB(self):\n",
    "        print('I am the function of class B')\n",
    "\n",
    "class C(A,B):\n",
    "    def DisplayC(self):\n",
    "        print('I am the function of class C')"
   ]
  },
  {
   "cell_type": "code",
   "execution_count": 55,
   "metadata": {},
   "outputs": [],
   "source": [
    "c=C()"
   ]
  },
  {
   "cell_type": "code",
   "execution_count": 57,
   "metadata": {},
   "outputs": [
    {
     "name": "stdout",
     "output_type": "stream",
     "text": [
      "I am the function of class A\n",
      "I am the function of class B\n",
      "I am the function of class C\n"
     ]
    }
   ],
   "source": [
    "c.DisplayA()\n",
    "c.DisplayB()\n",
    "c.DisplayC()"
   ]
  },
  {
   "cell_type": "code",
   "execution_count": 60,
   "metadata": {},
   "outputs": [],
   "source": [
    "# Class c wanted to have the properties of B and Class D to have the properties of c and also class b to have properties of A.\n",
    "## MULTILEVEL INHERITENCE.\n",
    "class A():\n",
    "    def DisplayA(self):\n",
    "        print('I am the function of class A')\n",
    "\n",
    "class B(A):\n",
    "    def DisplayB(self):\n",
    "        print('I am the function of class B')\n",
    "\n",
    "class C(B):\n",
    "    def DisplayC(self):\n",
    "        print('I am the function of class C')\n",
    "        \n",
    "class D(C):\n",
    "    def DisplayD(self):\n",
    "        print('I am the function of class D')"
   ]
  },
  {
   "cell_type": "code",
   "execution_count": 61,
   "metadata": {},
   "outputs": [],
   "source": [
    "d=D()"
   ]
  },
  {
   "cell_type": "code",
   "execution_count": 62,
   "metadata": {},
   "outputs": [
    {
     "name": "stdout",
     "output_type": "stream",
     "text": [
      "I am the function of class A\n",
      "I am the function of class B\n",
      "I am the function of class C\n",
      "I am the function of class D\n"
     ]
    }
   ],
   "source": [
    "d.DisplayA()\n",
    "d.DisplayB()\n",
    "d.DisplayC()\n",
    "d.DisplayD()"
   ]
  },
  {
   "cell_type": "code",
   "execution_count": 7,
   "metadata": {},
   "outputs": [],
   "source": [
    "## FUNCTION OVERRIDING:\n",
    "\n",
    "class IOS10():\n",
    "    def TaskA(self):\n",
    "        print('Method 1 is used for performing the Task')\n",
    "        \n",
    "class IOS11(IOS10):    ## In order to perform the overriding we perform inheritence.\n",
    "    def TaskA(self,val):\n",
    "        print('Method 2 is used for performing the Task')\n",
    "        print (val)"
   ]
  },
  {
   "cell_type": "code",
   "execution_count": 8,
   "metadata": {},
   "outputs": [],
   "source": [
    "ios10=IOS10()"
   ]
  },
  {
   "cell_type": "code",
   "execution_count": 9,
   "metadata": {},
   "outputs": [
    {
     "name": "stdout",
     "output_type": "stream",
     "text": [
      "Method 1 is used for performing the Task\n"
     ]
    }
   ],
   "source": [
    "ios10.TaskA()"
   ]
  },
  {
   "cell_type": "code",
   "execution_count": 10,
   "metadata": {},
   "outputs": [],
   "source": [
    "ios11=IOS11()"
   ]
  },
  {
   "cell_type": "code",
   "execution_count": 11,
   "metadata": {},
   "outputs": [
    {
     "name": "stdout",
     "output_type": "stream",
     "text": [
      "Method 2 is used for performing the Task\n",
      "Without using method1\n"
     ]
    }
   ],
   "source": [
    "ios11.TaskA(\"Without using method1\")"
   ]
  },
  {
   "cell_type": "code",
   "execution_count": 12,
   "metadata": {},
   "outputs": [],
   "source": [
    "## Example 2:\n",
    "\n",
    "class one():\n",
    "    def shr(self):\n",
    "        print('Shreyas is always one number in racing')\n",
    "        \n",
    "class two(one):\n",
    "    def shr(self):\n",
    "        print('Shreyas is also number two in betting')"
   ]
  },
  {
   "cell_type": "code",
   "execution_count": 13,
   "metadata": {},
   "outputs": [],
   "source": [
    "o=one()"
   ]
  },
  {
   "cell_type": "code",
   "execution_count": 14,
   "metadata": {},
   "outputs": [
    {
     "name": "stdout",
     "output_type": "stream",
     "text": [
      "Shreyas is always one number\n"
     ]
    }
   ],
   "source": [
    "o.shr()"
   ]
  },
  {
   "cell_type": "code",
   "execution_count": 15,
   "metadata": {},
   "outputs": [],
   "source": [
    "t=two()"
   ]
  },
  {
   "cell_type": "code",
   "execution_count": 16,
   "metadata": {},
   "outputs": [
    {
     "name": "stdout",
     "output_type": "stream",
     "text": [
      "Shreyas is also number two\n"
     ]
    }
   ],
   "source": [
    "t.shr()   ## This is one of the examples of overriding."
   ]
  },
  {
   "cell_type": "code",
   "execution_count": 17,
   "metadata": {},
   "outputs": [
    {
     "name": "stdout",
     "output_type": "stream",
     "text": [
      "Given Input is Valid\n",
      "MangoDB Connection is successful to store the inputs\n",
      "Data has been stored inti database successfully\n"
     ]
    }
   ],
   "source": [
    "## EXAMPLES for writing the class:\n",
    "## WAP a program for user to give their login details:\n",
    "\n",
    "class logindetails():\n",
    "    \n",
    "    def __init__(self,n,p,c,e,d):\n",
    "        self.name=n\n",
    "        self.password=p\n",
    "        self.city=c\n",
    "        self.email=e\n",
    "        self.dateofbirth=d\n",
    "        \n",
    "    def ValidationOfInputs(self):\n",
    "        print('Given Input is Valid')\n",
    "        \n",
    "    def MakeConnectionwithDB(self):\n",
    "        print('MangoDB Connection is successful to store the inputs')\n",
    "    \n",
    "    def StoringofDATE(self):\n",
    "        print('Data has been stored inti database successfully')\n",
    "        \n",
    "l1=logindetails('Shreyas','sre@95','DVG','sremanj@gmail.com',170795)\n",
    "l1.ValidationOfInputs()\n",
    "l1.MakeConnectionwithDB()\n",
    "l1.StoringofDATE()\n",
    "        "
   ]
  },
  {
   "cell_type": "code",
   "execution_count": 18,
   "metadata": {},
   "outputs": [
    {
     "name": "stdout",
     "output_type": "stream",
     "text": [
      "Given Input is Valid\n",
      "MangoDB Connection is successful to store the inputs\n",
      "Data has been stored inti database successfully\n"
     ]
    }
   ],
   "source": [
    "l2=logindetails('Tejas','tm@2000','DVG','tejmanj@gmail.com',8062000)\n",
    "l2.ValidationOfInputs()\n",
    "l2.MakeConnectionwithDB()\n",
    "l2.StoringofDATE()"
   ]
  },
  {
   "cell_type": "code",
   "execution_count": 26,
   "metadata": {},
   "outputs": [],
   "source": [
    "## Polymorphism example:  \n",
    "#This helps in acheiving one thing available in many forms.\n",
    "#This is similar as such of inheritance and the overriding,But its a combination of multiple overriding.\n",
    "\n",
    "class Animals():\n",
    "     def Talk(self):\n",
    "            pass\n",
    "      \n",
    "     def Legs(self):\n",
    "            print('Four legs')"
   ]
  },
  {
   "cell_type": "code",
   "execution_count": 27,
   "metadata": {},
   "outputs": [],
   "source": [
    "class Dog(Animals):\n",
    "    def Talk(self):\n",
    "        print('Barks')\n",
    "\n",
    "class Cat(Animals):\n",
    "    def Talk(self):\n",
    "        print('Mew')\n",
    "        \n",
    "class Lion(Animals):\n",
    "    def Talk(self):\n",
    "        print('Roars')"
   ]
  },
  {
   "cell_type": "code",
   "execution_count": 28,
   "metadata": {},
   "outputs": [],
   "source": [
    "d=Dog()"
   ]
  },
  {
   "cell_type": "code",
   "execution_count": 29,
   "metadata": {},
   "outputs": [
    {
     "name": "stdout",
     "output_type": "stream",
     "text": [
      "Barks\n",
      "Four legs\n"
     ]
    }
   ],
   "source": [
    "d.Talk()\n",
    "d.Legs()"
   ]
  },
  {
   "cell_type": "code",
   "execution_count": 30,
   "metadata": {},
   "outputs": [],
   "source": [
    "c=Cat()"
   ]
  },
  {
   "cell_type": "code",
   "execution_count": 33,
   "metadata": {},
   "outputs": [
    {
     "name": "stdout",
     "output_type": "stream",
     "text": [
      "Four legs\n",
      "Mew\n"
     ]
    }
   ],
   "source": [
    "c.Legs()\n",
    "c.Talk()"
   ]
  },
  {
   "cell_type": "code",
   "execution_count": 34,
   "metadata": {},
   "outputs": [],
   "source": [
    "l=Lion()"
   ]
  },
  {
   "cell_type": "code",
   "execution_count": 35,
   "metadata": {},
   "outputs": [
    {
     "name": "stdout",
     "output_type": "stream",
     "text": [
      "Roars\n",
      "Four legs\n"
     ]
    }
   ],
   "source": [
    "l.Talk()\n",
    "l.Legs()"
   ]
  },
  {
   "cell_type": "code",
   "execution_count": 39,
   "metadata": {},
   "outputs": [],
   "source": [
    "### Example for SUPER-CLASS:\n",
    "\n",
    "class A():\n",
    "    def __init__(self,a1,a2):\n",
    "        self.a1=a1\n",
    "        self.a2=a2\n",
    "    \n",
    "    def Add(self):\n",
    "        print(self.a1+self.a2)    \n",
    "        \n",
    "class B(A):  \n",
    "    def __init__(self,v1,v2):\n",
    "        self.v1=v1\n",
    "        self.v2=v2\n",
    "    \n",
    "    def Sub(self):\n",
    "        print(self.v1-self.v2) \n"
   ]
  },
  {
   "cell_type": "code",
   "execution_count": 42,
   "metadata": {},
   "outputs": [],
   "source": [
    "S=B(12,10) ## Even though the inheritance is done we cannot perform add function.\n",
    "# This kind of scenirio is called as "
   ]
  },
  {
   "cell_type": "code",
   "execution_count": 45,
   "metadata": {},
   "outputs": [
    {
     "name": "stdout",
     "output_type": "stream",
     "text": [
      "2\n"
     ]
    }
   ],
   "source": [
    "S.Sub()"
   ]
  },
  {
   "cell_type": "code",
   "execution_count": 46,
   "metadata": {},
   "outputs": [
    {
     "ename": "AttributeError",
     "evalue": "'B' object has no attribute 'a1'",
     "output_type": "error",
     "traceback": [
      "\u001b[1;31m---------------------------------------------------------------------------\u001b[0m",
      "\u001b[1;31mAttributeError\u001b[0m                            Traceback (most recent call last)",
      "\u001b[1;32m<ipython-input-46-257e1b1f976b>\u001b[0m in \u001b[0;36m<module>\u001b[1;34m\u001b[0m\n\u001b[1;32m----> 1\u001b[1;33m \u001b[0mS\u001b[0m\u001b[1;33m.\u001b[0m\u001b[0mAdd\u001b[0m\u001b[1;33m(\u001b[0m\u001b[1;33m)\u001b[0m\u001b[1;33m\u001b[0m\u001b[1;33m\u001b[0m\u001b[0m\n\u001b[0m",
      "\u001b[1;32m<ipython-input-39-f4bf2b3c9861>\u001b[0m in \u001b[0;36mAdd\u001b[1;34m(self)\u001b[0m\n\u001b[0;32m      7\u001b[0m \u001b[1;33m\u001b[0m\u001b[0m\n\u001b[0;32m      8\u001b[0m     \u001b[1;32mdef\u001b[0m \u001b[0mAdd\u001b[0m\u001b[1;33m(\u001b[0m\u001b[0mself\u001b[0m\u001b[1;33m)\u001b[0m\u001b[1;33m:\u001b[0m\u001b[1;33m\u001b[0m\u001b[1;33m\u001b[0m\u001b[0m\n\u001b[1;32m----> 9\u001b[1;33m         \u001b[0mprint\u001b[0m\u001b[1;33m(\u001b[0m\u001b[0mself\u001b[0m\u001b[1;33m.\u001b[0m\u001b[0ma1\u001b[0m\u001b[1;33m+\u001b[0m\u001b[0mself\u001b[0m\u001b[1;33m.\u001b[0m\u001b[0ma2\u001b[0m\u001b[1;33m)\u001b[0m\u001b[1;33m\u001b[0m\u001b[1;33m\u001b[0m\u001b[0m\n\u001b[0m\u001b[0;32m     10\u001b[0m \u001b[1;33m\u001b[0m\u001b[0m\n\u001b[0;32m     11\u001b[0m \u001b[1;32mclass\u001b[0m \u001b[0mB\u001b[0m\u001b[1;33m(\u001b[0m\u001b[0mA\u001b[0m\u001b[1;33m)\u001b[0m\u001b[1;33m:\u001b[0m\u001b[1;33m\u001b[0m\u001b[1;33m\u001b[0m\u001b[0m\n",
      "\u001b[1;31mAttributeError\u001b[0m: 'B' object has no attribute 'a1'"
     ]
    }
   ],
   "source": [
    "S.Add()   # We cannot perform add function"
   ]
  },
  {
   "cell_type": "code",
   "execution_count": 49,
   "metadata": {},
   "outputs": [],
   "source": [
    "class A():\n",
    "    def __init__(self,a1,a2):\n",
    "        self.a1=a1\n",
    "        self.a2=a2\n",
    "    \n",
    "    def Add(self):\n",
    "        print(self.a1+self.a2)    \n",
    "        \n",
    "class B(A):  \n",
    "    def __init__(self,v1,v2,a1,a2):\n",
    "        self.v1=v1\n",
    "        self.v2=v2\n",
    "        super(). __init__(a1,a2)\n",
    "    \n",
    "    def Sub(self):\n",
    "        print(self.v1-self.v2) "
   ]
  },
  {
   "cell_type": "code",
   "execution_count": 50,
   "metadata": {},
   "outputs": [],
   "source": [
    "a1=B(22,20,40,42)"
   ]
  },
  {
   "cell_type": "code",
   "execution_count": 52,
   "metadata": {},
   "outputs": [
    {
     "name": "stdout",
     "output_type": "stream",
     "text": [
      "82\n"
     ]
    }
   ],
   "source": [
    "a1.Add()   ## Adding 3rd and 4th variable."
   ]
  },
  {
   "cell_type": "code",
   "execution_count": 53,
   "metadata": {},
   "outputs": [
    {
     "name": "stdout",
     "output_type": "stream",
     "text": [
      "2\n"
     ]
    }
   ],
   "source": [
    "a1.Sub()   ## Subracting 1st and 2nd variable."
   ]
  },
  {
   "cell_type": "markdown",
   "metadata": {},
   "source": [
    "# Access specifiers: Public, Private, Protected"
   ]
  },
  {
   "cell_type": "code",
   "execution_count": 54,
   "metadata": {},
   "outputs": [],
   "source": [
    "## Examples for Access specifiers:\n",
    "\n",
    "## Public : It can be accessed anywhere in other modules as well.\n",
    "\n",
    "## Protected (_'Single slash'): It can be used within in the class, object , sub class but within the same module.\n",
    "\n",
    "## Private(__'Double slash is used'): It can be used only inside the class."
   ]
  },
  {
   "cell_type": "code",
   "execution_count": 98,
   "metadata": {},
   "outputs": [],
   "source": [
    "class Flowers():\n",
    "    \n",
    "    def __init__(self,n,c,q):\n",
    "        self.name=n\n",
    "        self._color=c\n",
    "        self.__quantity=q\n",
    "  \n",
    "    # Public:   \n",
    "    def Printname(self):\n",
    "        print('Name: ',self.name)\n",
    "        \n",
    "    # Protected:\n",
    "    def _Printcolor(self):\n",
    "        print('Color: ',self._color)\n",
    "    \n",
    "    # Private:    \n",
    "    def __Printquantity(self):\n",
    "        print('Quantity: ',self.__quantity)\n",
    "        \n",
    "    def Alldetails(self):\n",
    "        self.Printname()\n",
    "        self._Printcolor()\n",
    "        self.__Printquantity()\n",
    "        "
   ]
  },
  {
   "cell_type": "code",
   "execution_count": 99,
   "metadata": {},
   "outputs": [],
   "source": [
    "f=Flowers('Rose','Yellow',1000)"
   ]
  },
  {
   "cell_type": "code",
   "execution_count": 100,
   "metadata": {},
   "outputs": [
    {
     "name": "stdout",
     "output_type": "stream",
     "text": [
      "Name:  Rose\n"
     ]
    }
   ],
   "source": [
    "f.Printname()      ## Only it shows printname."
   ]
  },
  {
   "cell_type": "code",
   "execution_count": 101,
   "metadata": {},
   "outputs": [
    {
     "name": "stdout",
     "output_type": "stream",
     "text": [
      "Color:  Yellow\n"
     ]
    }
   ],
   "source": [
    "f._Printcolor()    ## It will not show Printcolor, but can have the access of it inside the class."
   ]
  },
  {
   "cell_type": "code",
   "execution_count": 91,
   "metadata": {},
   "outputs": [
    {
     "ename": "AttributeError",
     "evalue": "'Flowers' object has no attribute '__Printquantity'",
     "output_type": "error",
     "traceback": [
      "\u001b[1;31m---------------------------------------------------------------------------\u001b[0m",
      "\u001b[1;31mAttributeError\u001b[0m                            Traceback (most recent call last)",
      "\u001b[1;32m<ipython-input-91-64f070db33dd>\u001b[0m in \u001b[0;36m<module>\u001b[1;34m\u001b[0m\n\u001b[1;32m----> 1\u001b[1;33m \u001b[0mf\u001b[0m\u001b[1;33m.\u001b[0m\u001b[0m__Printquantity\u001b[0m\u001b[1;33m(\u001b[0m\u001b[1;33m)\u001b[0m   \u001b[1;31m## We cant access this , since it is private.\u001b[0m\u001b[1;33m\u001b[0m\u001b[1;33m\u001b[0m\u001b[0m\n\u001b[0m",
      "\u001b[1;31mAttributeError\u001b[0m: 'Flowers' object has no attribute '__Printquantity'"
     ]
    }
   ],
   "source": [
    "f.__Printquantity()   ## We cant access this , since it is private."
   ]
  },
  {
   "cell_type": "code",
   "execution_count": 86,
   "metadata": {},
   "outputs": [
    {
     "name": "stdout",
     "output_type": "stream",
     "text": [
      "Name:  Rose\n",
      "Color:  Yellow\n",
      "Quantity:  1000\n"
     ]
    }
   ],
   "source": [
    "f.Alldetails()   ## We can access the details, bcz it is another function."
   ]
  },
  {
   "cell_type": "code",
   "execution_count": 93,
   "metadata": {},
   "outputs": [
    {
     "name": "stdout",
     "output_type": "stream",
     "text": [
      "Quantity:  1000\n"
     ]
    }
   ],
   "source": [
    "## In order to access the private function:\n",
    "\n",
    "f._Flowers__Printquantity()     ## This is by def function."
   ]
  },
  {
   "cell_type": "code",
   "execution_count": 90,
   "metadata": {},
   "outputs": [
    {
     "data": {
      "text/plain": [
       "1000"
      ]
     },
     "execution_count": 90,
     "metadata": {},
     "output_type": "execute_result"
    }
   ],
   "source": [
    "f._Flowers__quantity   ## This is by variable defined in contractor."
   ]
  },
  {
   "cell_type": "markdown",
   "metadata": {},
   "source": [
    "# Exception Handling: Built in Errors"
   ]
  },
  {
   "cell_type": "code",
   "execution_count": 8,
   "metadata": {},
   "outputs": [
    {
     "name": "stdout",
     "output_type": "stream",
     "text": [
      "Enter the number: 10\n",
      "Enter another number: 5\n",
      "2.0\n",
      "Division is Done..!\n"
     ]
    }
   ],
   "source": [
    " ## Example: Example for exceptional Handling.\n",
    " ## zero division error   \n",
    "    \n",
    "a=int(input('Enter the number: '))\n",
    "b=int(input('Enter another number: '))\n",
    "try:\n",
    "    c=a/b\n",
    "except:\n",
    "    print('Divided by 0')\n",
    "else:\n",
    "    print(c)\n",
    "finally:\n",
    "    print('Division is Done..!')"
   ]
  },
  {
   "cell_type": "code",
   "execution_count": 10,
   "metadata": {},
   "outputs": [
    {
     "name": "stdout",
     "output_type": "stream",
     "text": [
      "Enter the number: Yash\n"
     ]
    },
    {
     "ename": "ValueError",
     "evalue": "invalid literal for int() with base 10: 'Yash'",
     "output_type": "error",
     "traceback": [
      "\u001b[1;31m---------------------------------------------------------------------------\u001b[0m",
      "\u001b[1;31mValueError\u001b[0m                                Traceback (most recent call last)",
      "\u001b[1;32m<ipython-input-10-4d7d8fa1d140>\u001b[0m in \u001b[0;36m<module>\u001b[1;34m\u001b[0m\n\u001b[1;32m----> 1\u001b[1;33m \u001b[0ma\u001b[0m\u001b[1;33m=\u001b[0m\u001b[0mint\u001b[0m\u001b[1;33m(\u001b[0m\u001b[0minput\u001b[0m\u001b[1;33m(\u001b[0m\u001b[1;34m'Enter the number: '\u001b[0m\u001b[1;33m)\u001b[0m\u001b[1;33m)\u001b[0m\u001b[1;33m\u001b[0m\u001b[1;33m\u001b[0m\u001b[0m\n\u001b[0m\u001b[0;32m      2\u001b[0m \u001b[0mb\u001b[0m\u001b[1;33m=\u001b[0m\u001b[0mint\u001b[0m\u001b[1;33m(\u001b[0m\u001b[0minput\u001b[0m\u001b[1;33m(\u001b[0m\u001b[1;34m'Enter another number: '\u001b[0m\u001b[1;33m)\u001b[0m\u001b[1;33m)\u001b[0m\u001b[1;33m\u001b[0m\u001b[1;33m\u001b[0m\u001b[0m\n\u001b[0;32m      3\u001b[0m \u001b[1;32mtry\u001b[0m\u001b[1;33m:\u001b[0m\u001b[1;33m\u001b[0m\u001b[1;33m\u001b[0m\u001b[0m\n\u001b[0;32m      4\u001b[0m     \u001b[0mc\u001b[0m\u001b[1;33m=\u001b[0m\u001b[0ma\u001b[0m\u001b[1;33m/\u001b[0m\u001b[0mb\u001b[0m\u001b[1;33m\u001b[0m\u001b[1;33m\u001b[0m\u001b[0m\n\u001b[0;32m      5\u001b[0m \u001b[1;32mexcept\u001b[0m\u001b[1;33m:\u001b[0m\u001b[1;33m\u001b[0m\u001b[1;33m\u001b[0m\u001b[0m\n",
      "\u001b[1;31mValueError\u001b[0m: invalid literal for int() with base 10: 'Yash'"
     ]
    }
   ],
   "source": [
    "a=int(input('Enter the number: '))\n",
    "b=int(input('Enter another number: '))\n",
    "try:\n",
    "    c=a/b                                  ### VALUE ERROR : accored when char given instead of int.\n",
    "except:\n",
    "    print('Divided by 0')\n",
    "else:\n",
    "    print(c)\n",
    "finally:\n",
    "    print('Division is Done..!')"
   ]
  },
  {
   "cell_type": "code",
   "execution_count": 13,
   "metadata": {},
   "outputs": [
    {
     "name": "stdout",
     "output_type": "stream",
     "text": [
      "Enter the value: 22\n",
      "Enter the value: lk\n",
      "Something wrong input as given\n",
      "Work done...!\n"
     ]
    }
   ],
   "source": [
    "try:       ### This is how multiple exceptional error is solved.\n",
    "    a=int(input('Enter the value: '))\n",
    "    b=int(input('Enter the value: '))\n",
    "    c=a/b    \n",
    "except ZeroDivisionError:\n",
    "    print('Divided by 0')\n",
    "\n",
    "except ValueError:\n",
    "    print('Something wrong input as given')\n",
    "    \n",
    "else:\n",
    "    print(c)\n",
    "    \n",
    "finally:\n",
    "    print('Work done...!')"
   ]
  },
  {
   "cell_type": "code",
   "execution_count": 14,
   "metadata": {},
   "outputs": [],
   "source": [
    "## We cant remember all kinds of errors, so we perform as in below code.\n",
    "import sys\n",
    "from sys import exc_info"
   ]
  },
  {
   "cell_type": "code",
   "execution_count": 19,
   "metadata": {},
   "outputs": [
    {
     "name": "stdout",
     "output_type": "stream",
     "text": [
      "Enter the value: 22\n",
      "Enter the value: uu\n",
      "(<class 'ValueError'>, ValueError(\"invalid literal for int() with base 10: 'uu'\"))\n",
      "Work done...!\n"
     ]
    }
   ],
   "source": [
    "try: ### This is how multiple exceptional error is solved.\n",
    "    a=int(input('Enter the value: '))\n",
    "    b=int(input('Enter the value: '))\n",
    "    c=a/b    \n",
    "except:\n",
    "    print(sys.exc_info()[:2]) \n",
    "else:\n",
    "    print(c)\n",
    "finally:\n",
    "    print('Work done...!')"
   ]
  },
  {
   "cell_type": "code",
   "execution_count": 25,
   "metadata": {},
   "outputs": [
    {
     "name": "stdout",
     "output_type": "stream",
     "text": [
      "Enter the value: 10\n",
      "Enter the value: 0\n",
      "Divided by 0\n",
      "Division is Done..!\n"
     ]
    }
   ],
   "source": [
    "## Another way of writing the exception: \n",
    "\n",
    "try:\n",
    "    a=int(input('Enter the value: '))\n",
    "    b=int(input('Enter the value: '))\n",
    "except:\n",
    "    print('Wrong Input')\n",
    "else:\n",
    "    try:\n",
    "        c=a/b\n",
    "    except:\n",
    "        print('Divided by 0')\n",
    "    else:\n",
    "        print(c)\n",
    "finally:\n",
    "    print('Division is Done..!')\n",
    "        \n",
    "    "
   ]
  },
  {
   "cell_type": "markdown",
   "metadata": {},
   "source": [
    "# User-Defined Exception :"
   ]
  },
  {
   "cell_type": "code",
   "execution_count": null,
   "metadata": {},
   "outputs": [],
   "source": [
    "## WAP to guess the number:\n",
    "## This is one way of writing the code.\n",
    "\n",
    "Num_in_memory = 10\n",
    "\n",
    "while True:    \n",
    "    num=int(input('Guess the Number: '))\n",
    "    if num>Num_in_memory:\n",
    "        print('Number guessed is Bigger..')\n",
    "    elif num<Num_in_memory:\n",
    "        print('Number guessed is Smaller..')\n",
    "    else:\n",
    "        break\n",
    "\n",
    "print('You guessed the correct Number')    "
   ]
  },
  {
   "cell_type": "code",
   "execution_count": 6,
   "metadata": {},
   "outputs": [
    {
     "name": "stdout",
     "output_type": "stream",
     "text": [
      "Guess the Number: 25\n",
      "Number Guessed is Larger..\n",
      "Guess the Number: 10\n",
      "Number Guessed is Smaller..\n",
      "Guess the Number: 13\n",
      "Number Guessed is Smaller..\n",
      "Guess the Number: 20\n",
      "You guessed the correct Number\n"
     ]
    }
   ],
   "source": [
    "GuessNum = 20\n",
    "\n",
    "class LargeNum(Exception):\n",
    "    def Message(self):\n",
    "        print('Number Guessed is Larger..')\n",
    "        \n",
    "class SmallNum(Exception):\n",
    "    def Message(self):\n",
    "        print('Number Guessed is Smaller..')\n",
    "    \n",
    "while True:   \n",
    "    \n",
    "    try:        \n",
    "        num=int(input('Guess the Number: '))\n",
    "        if num>GuessNum:\n",
    "            raise LargeNum\n",
    "        elif num<GuessNum:\n",
    "            raise SmallNum\n",
    "        else:\n",
    "            break\n",
    "            \n",
    "    except LargeNum:\n",
    "        obj=LargeNum()\n",
    "        obj.Message()      \n",
    "        \n",
    "    except SmallNum:\n",
    "        obj=SmallNum()\n",
    "        obj.Message()\n",
    "\n",
    "print('You guessed the correct Number')    "
   ]
  },
  {
   "cell_type": "code",
   "execution_count": null,
   "metadata": {},
   "outputs": [],
   "source": []
  }
 ],
 "metadata": {
  "kernelspec": {
   "display_name": "Python 3",
   "language": "python",
   "name": "python3"
  },
  "language_info": {
   "codemirror_mode": {
    "name": "ipython",
    "version": 3
   },
   "file_extension": ".py",
   "mimetype": "text/x-python",
   "name": "python",
   "nbconvert_exporter": "python",
   "pygments_lexer": "ipython3",
   "version": "3.7.4"
  }
 },
 "nbformat": 4,
 "nbformat_minor": 2
}
